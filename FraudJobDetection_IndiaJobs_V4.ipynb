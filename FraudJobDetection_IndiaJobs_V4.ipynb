{
  "nbformat": 4,
  "nbformat_minor": 0,
  "metadata": {
    "colab": {
      "name": "FraudJobDetection_IndiaJobs.ipynb",
      "provenance": [],
      "collapsed_sections": [],
      "authorship_tag": "ABX9TyMzvDKlO/jm3oL1fU7g+ql2",
      "include_colab_link": true
    },
    "kernelspec": {
      "name": "python3",
      "display_name": "Python 3"
    },
    "language_info": {
      "name": "python"
    }
  },
  "cells": [
    {
      "cell_type": "markdown",
      "metadata": {
        "id": "view-in-github",
        "colab_type": "text"
      },
      "source": [
        "<a href=\"https://colab.research.google.com/github/kedarkotwal1/FraudJobDetection/blob/main/FraudJobDetection_IndiaJobs_V4.ipynb\" target=\"_parent\"><img src=\"https://colab.research.google.com/assets/colab-badge.svg\" alt=\"Open In Colab\"/></a>"
      ]
    },
    {
      "cell_type": "code",
      "execution_count": 45,
      "metadata": {
        "id": "BLYmr3szfDKU"
      },
      "outputs": [],
      "source": [
        ""
      ]
    },
    {
      "cell_type": "code",
      "execution_count": 46,
      "metadata": {
        "id": "SmC7b3y3YzYl"
      },
      "outputs": [],
      "source": [
        "import sys\n",
        "import pandas as pd\n",
        "import nltk\n",
        "import numpy as np\n",
        "import re\n",
        "import io\n",
        "import seaborn as sns\n",
        "import matplotlib.pyplot as plt"
      ]
    },
    {
      "cell_type": "code",
      "execution_count": 47,
      "metadata": {
        "id": "yqfvjAK-Gdsy"
      },
      "outputs": [],
      "source": [
        "pd.set_option('display.max_columns',None)\n",
        "pd.set_option('display.max_rows',None)\n",
        "pd.set_option('display.width',None)"
      ]
    },
    {
      "cell_type": "code",
      "execution_count": 48,
      "metadata": {
        "colab": {
          "base_uri": "https://localhost:8080/"
        },
        "id": "vXF6FWYdDXZK",
        "outputId": "2768fc63-4053-4042-a47a-32fb9843d6cd"
      },
      "outputs": [
        {
          "output_type": "stream",
          "name": "stdout",
          "text": [
            "Drive already mounted at /content/drive; to attempt to forcibly remount, call drive.mount(\"/content/drive\", force_remount=True).\n"
          ]
        }
      ],
      "source": [
        "from google.colab import drive\n",
        "drive.mount('/content/drive')"
      ]
    },
    {
      "cell_type": "code",
      "execution_count": 49,
      "metadata": {
        "colab": {
          "base_uri": "https://localhost:8080/"
        },
        "id": "8z7lXIqiFiQH",
        "outputId": "d94e2b0d-7420-4c00-ed9a-db38faafed6b"
      },
      "outputs": [
        {
          "output_type": "stream",
          "name": "stdout",
          "text": [
            "[Errno 2] No such file or directory: 'drive/MyDrive/MSC_Project'\n",
            "/content/drive/MyDrive/MSC_Project\n"
          ]
        }
      ],
      "source": [
        "cd drive/MyDrive/MSC_Project "
      ]
    },
    {
      "cell_type": "code",
      "execution_count": 187,
      "metadata": {
        "id": "TcyhxgemGI7A"
      },
      "outputs": [],
      "source": [
        "scjobdf = pd.read_csv('FinalDataset.csv')"
      ]
    },
    {
      "cell_type": "markdown",
      "source": [
        "#Understanding the dataset"
      ],
      "metadata": {
        "id": "uSggwEI9iHr2"
      }
    },
    {
      "cell_type": "code",
      "execution_count": 188,
      "metadata": {
        "colab": {
          "base_uri": "https://localhost:8080/"
        },
        "id": "i98vEGZ0GaGC",
        "outputId": "e64d5fdb-67d5-4e83-9d86-661c6f1b7ccf"
      },
      "outputs": [
        {
          "output_type": "stream",
          "name": "stdout",
          "text": [
            "   Unnamed: 0                                              title  \\\n",
            "0           0                                        QA Engineer   \n",
            "1           1                                                PMO   \n",
            "2           2                                       Chat Support   \n",
            "3           3                                   Angular Engineer   \n",
            "4           4  Work From Home -Technical Support- Work From H...   \n",
            "\n",
            "                location   salary_range  \\\n",
            "0  Bengaluru / Bangalore            NaN   \n",
            "1  Bengaluru / Bangalore            NaN   \n",
            "2             Chandigarh  240000-280000   \n",
            "3                 Remote            NaN   \n",
            "4                 Remote  220000-409999   \n",
            "\n",
            "                                     company_profile  \\\n",
            "0  Quess IT Staffing. Founded in 1997 as an entre...   \n",
            "1                             Templeton and Partners   \n",
            "2  Tech Mahindra is part of the US $15.4 billion ...   \n",
            "3                                    theuniversal.in   \n",
            "4                                                NaN   \n",
            "\n",
            "                                         description  \\\n",
            "0  End to End Functional testing of virtual educa...   \n",
            "1  Understand the Project Delivery Framework (PDF...   \n",
            "2  Process:- English process (Chat Process)\\nNote...   \n",
            "3  Responsibilities :1. Work closely with the tea...   \n",
            "4  Job Description:Voice support to the customer....   \n",
            "\n",
            "                                        requirements benefits  telecommuting  \\\n",
            "0                                       Api Testing       NaN              0   \n",
            "1                                    Project Finance      NaN              0   \n",
            "2  Eligibility Criteria:-\\nMandatory: Excellent c...      NaN              0   \n",
            "3  Technical skills required :1. Angular 10 and a...      NaN              1   \n",
            "4                                                NaN      NaN              1   \n",
            "\n",
            "   has_company_logo  has_questions employment_type required_education  \\\n",
            "0                 1              1       Full time            Masters   \n",
            "1                 0              1       Part time            Masters   \n",
            "2                 1              1       Full time          Bachelors   \n",
            "3                 0              0       Full time         Bachelors    \n",
            "4                 0              0       Part time          Bachelors   \n",
            "\n",
            "  required_experience                                           industry  \\\n",
            "0    Mid-Senior level  IT/Computers - Hardware & Networking , IT/Comp...   \n",
            "1    Mid-Senior level                          IT / Computers - Software   \n",
            "2           Associate                                           ITES/BPO   \n",
            "3           Associate                            IT/Computers - Software   \n",
            "4           Associate                                            Telecom   \n",
            "\n",
            "                           function  fraudulent  \n",
            "0                                IT           0  \n",
            "1                               NaN           0  \n",
            "2  Customer Service/Call Centre/BPO           0  \n",
            "3                                IT           1  \n",
            "4  Customer Service/Call Centre/BPO           1  \n"
          ]
        }
      ],
      "source": [
        "print(scjobdf.head())"
      ]
    },
    {
      "cell_type": "code",
      "source": [
        "print(scjobdf.info())\n",
        "print(scjobdf.describe())"
      ],
      "metadata": {
        "colab": {
          "base_uri": "https://localhost:8080/"
        },
        "id": "OujTLdp_hJvp",
        "outputId": "4cfd8756-0186-44bf-d533-ce1adc90f8b6"
      },
      "execution_count": 52,
      "outputs": [
        {
          "output_type": "stream",
          "name": "stdout",
          "text": [
            "<class 'pandas.core.frame.DataFrame'>\n",
            "RangeIndex: 220 entries, 0 to 219\n",
            "Data columns (total 17 columns):\n",
            " #   Column               Non-Null Count  Dtype \n",
            "---  ------               --------------  ----- \n",
            " 0   Unnamed: 0           220 non-null    int64 \n",
            " 1   title                220 non-null    object\n",
            " 2   location             220 non-null    object\n",
            " 3   salary_range         88 non-null     object\n",
            " 4   company_profile      166 non-null    object\n",
            " 5   description          214 non-null    object\n",
            " 6   requirements         183 non-null    object\n",
            " 7   benefits             84 non-null     object\n",
            " 8   telecommuting        220 non-null    int64 \n",
            " 9   has_company_logo     220 non-null    int64 \n",
            " 10  has_questions        220 non-null    int64 \n",
            " 11  employment_type      201 non-null    object\n",
            " 12  required_education   142 non-null    object\n",
            " 13  required_experience  165 non-null    object\n",
            " 14  industry             177 non-null    object\n",
            " 15  function             182 non-null    object\n",
            " 16  fraudulent           220 non-null    int64 \n",
            "dtypes: int64(5), object(12)\n",
            "memory usage: 29.3+ KB\n",
            "None\n",
            "         Unnamed: 0  telecommuting  has_company_logo  has_questions  \\\n",
            "count    220.000000     220.000000        220.000000     220.000000   \n",
            "mean    6093.222727       0.231818          0.563636       0.563636   \n",
            "std     5973.317366       0.422956          0.497065       0.497065   \n",
            "min        0.000000       0.000000          0.000000       0.000000   \n",
            "25%       54.750000       0.000000          0.000000       0.000000   \n",
            "50%     4736.500000       0.000000          1.000000       1.000000   \n",
            "75%    11648.750000       0.000000          1.000000       1.000000   \n",
            "max    17459.000000       1.000000          1.000000       1.000000   \n",
            "\n",
            "       fraudulent  \n",
            "count  220.000000  \n",
            "mean     0.204545  \n",
            "std      0.404289  \n",
            "min      0.000000  \n",
            "25%      0.000000  \n",
            "50%      0.000000  \n",
            "75%      0.000000  \n",
            "max      1.000000  \n"
          ]
        }
      ]
    },
    {
      "cell_type": "code",
      "source": [
        "jobdf = scjobdf.copy()\n",
        "print(jobdf.head(2))"
      ],
      "metadata": {
        "colab": {
          "base_uri": "https://localhost:8080/"
        },
        "id": "O4CgyhMuiFpG",
        "outputId": "16a0b89d-c3f8-4880-d9fd-968d0ca48417"
      },
      "execution_count": 189,
      "outputs": [
        {
          "output_type": "stream",
          "name": "stdout",
          "text": [
            "   Unnamed: 0        title               location salary_range  \\\n",
            "0           0  QA Engineer  Bengaluru / Bangalore          NaN   \n",
            "1           1          PMO  Bengaluru / Bangalore          NaN   \n",
            "\n",
            "                                     company_profile  \\\n",
            "0  Quess IT Staffing. Founded in 1997 as an entre...   \n",
            "1                             Templeton and Partners   \n",
            "\n",
            "                                         description     requirements  \\\n",
            "0  End to End Functional testing of virtual educa...     Api Testing    \n",
            "1  Understand the Project Delivery Framework (PDF...  Project Finance   \n",
            "\n",
            "  benefits  telecommuting  has_company_logo  has_questions employment_type  \\\n",
            "0      NaN              0                 1              1       Full time   \n",
            "1      NaN              0                 0              1       Part time   \n",
            "\n",
            "  required_education required_experience  \\\n",
            "0            Masters    Mid-Senior level   \n",
            "1            Masters    Mid-Senior level   \n",
            "\n",
            "                                            industry function  fraudulent  \n",
            "0  IT/Computers - Hardware & Networking , IT/Comp...       IT           0  \n",
            "1                          IT / Computers - Software      NaN           0  \n"
          ]
        }
      ]
    },
    {
      "cell_type": "code",
      "source": [
        "total = jobdf.isnull().sum().sort_values(ascending=False)\n",
        "percent_1 = jobdf.isnull().sum()/jobdf.isnull().count()*100\n",
        "percent_2 = (round(percent_1, 1)).sort_values(ascending=False)\n",
        "missing_data = pd.concat([total, percent_2], axis=1, keys=['Total','%'])\n",
        "missing_data"
      ],
      "metadata": {
        "colab": {
          "base_uri": "https://localhost:8080/",
          "height": 582
        },
        "id": "0CL4oeJIjALk",
        "outputId": "bea4cce8-15a0-4c9e-b284-7f5d27b70319"
      },
      "execution_count": 190,
      "outputs": [
        {
          "output_type": "execute_result",
          "data": {
            "text/plain": [
              "                     Total     %\n",
              "benefits               136  61.8\n",
              "salary_range           132  60.0\n",
              "required_education      78  35.5\n",
              "required_experience     55  25.0\n",
              "company_profile         54  24.5\n",
              "industry                43  19.5\n",
              "function                38  17.3\n",
              "requirements            37  16.8\n",
              "employment_type         19   8.6\n",
              "description              6   2.7\n",
              "Unnamed: 0               0   0.0\n",
              "telecommuting            0   0.0\n",
              "has_questions            0   0.0\n",
              "has_company_logo         0   0.0\n",
              "title                    0   0.0\n",
              "location                 0   0.0\n",
              "fraudulent               0   0.0"
            ],
            "text/html": [
              "\n",
              "  <div id=\"df-4ed571f8-8d45-4bfe-91ed-246eb710d717\">\n",
              "    <div class=\"colab-df-container\">\n",
              "      <div>\n",
              "<style scoped>\n",
              "    .dataframe tbody tr th:only-of-type {\n",
              "        vertical-align: middle;\n",
              "    }\n",
              "\n",
              "    .dataframe tbody tr th {\n",
              "        vertical-align: top;\n",
              "    }\n",
              "\n",
              "    .dataframe thead th {\n",
              "        text-align: right;\n",
              "    }\n",
              "</style>\n",
              "<table border=\"1\" class=\"dataframe\">\n",
              "  <thead>\n",
              "    <tr style=\"text-align: right;\">\n",
              "      <th></th>\n",
              "      <th>Total</th>\n",
              "      <th>%</th>\n",
              "    </tr>\n",
              "  </thead>\n",
              "  <tbody>\n",
              "    <tr>\n",
              "      <th>benefits</th>\n",
              "      <td>136</td>\n",
              "      <td>61.8</td>\n",
              "    </tr>\n",
              "    <tr>\n",
              "      <th>salary_range</th>\n",
              "      <td>132</td>\n",
              "      <td>60.0</td>\n",
              "    </tr>\n",
              "    <tr>\n",
              "      <th>required_education</th>\n",
              "      <td>78</td>\n",
              "      <td>35.5</td>\n",
              "    </tr>\n",
              "    <tr>\n",
              "      <th>required_experience</th>\n",
              "      <td>55</td>\n",
              "      <td>25.0</td>\n",
              "    </tr>\n",
              "    <tr>\n",
              "      <th>company_profile</th>\n",
              "      <td>54</td>\n",
              "      <td>24.5</td>\n",
              "    </tr>\n",
              "    <tr>\n",
              "      <th>industry</th>\n",
              "      <td>43</td>\n",
              "      <td>19.5</td>\n",
              "    </tr>\n",
              "    <tr>\n",
              "      <th>function</th>\n",
              "      <td>38</td>\n",
              "      <td>17.3</td>\n",
              "    </tr>\n",
              "    <tr>\n",
              "      <th>requirements</th>\n",
              "      <td>37</td>\n",
              "      <td>16.8</td>\n",
              "    </tr>\n",
              "    <tr>\n",
              "      <th>employment_type</th>\n",
              "      <td>19</td>\n",
              "      <td>8.6</td>\n",
              "    </tr>\n",
              "    <tr>\n",
              "      <th>description</th>\n",
              "      <td>6</td>\n",
              "      <td>2.7</td>\n",
              "    </tr>\n",
              "    <tr>\n",
              "      <th>Unnamed: 0</th>\n",
              "      <td>0</td>\n",
              "      <td>0.0</td>\n",
              "    </tr>\n",
              "    <tr>\n",
              "      <th>telecommuting</th>\n",
              "      <td>0</td>\n",
              "      <td>0.0</td>\n",
              "    </tr>\n",
              "    <tr>\n",
              "      <th>has_questions</th>\n",
              "      <td>0</td>\n",
              "      <td>0.0</td>\n",
              "    </tr>\n",
              "    <tr>\n",
              "      <th>has_company_logo</th>\n",
              "      <td>0</td>\n",
              "      <td>0.0</td>\n",
              "    </tr>\n",
              "    <tr>\n",
              "      <th>title</th>\n",
              "      <td>0</td>\n",
              "      <td>0.0</td>\n",
              "    </tr>\n",
              "    <tr>\n",
              "      <th>location</th>\n",
              "      <td>0</td>\n",
              "      <td>0.0</td>\n",
              "    </tr>\n",
              "    <tr>\n",
              "      <th>fraudulent</th>\n",
              "      <td>0</td>\n",
              "      <td>0.0</td>\n",
              "    </tr>\n",
              "  </tbody>\n",
              "</table>\n",
              "</div>\n",
              "      <button class=\"colab-df-convert\" onclick=\"convertToInteractive('df-4ed571f8-8d45-4bfe-91ed-246eb710d717')\"\n",
              "              title=\"Convert this dataframe to an interactive table.\"\n",
              "              style=\"display:none;\">\n",
              "        \n",
              "  <svg xmlns=\"http://www.w3.org/2000/svg\" height=\"24px\"viewBox=\"0 0 24 24\"\n",
              "       width=\"24px\">\n",
              "    <path d=\"M0 0h24v24H0V0z\" fill=\"none\"/>\n",
              "    <path d=\"M18.56 5.44l.94 2.06.94-2.06 2.06-.94-2.06-.94-.94-2.06-.94 2.06-2.06.94zm-11 1L8.5 8.5l.94-2.06 2.06-.94-2.06-.94L8.5 2.5l-.94 2.06-2.06.94zm10 10l.94 2.06.94-2.06 2.06-.94-2.06-.94-.94-2.06-.94 2.06-2.06.94z\"/><path d=\"M17.41 7.96l-1.37-1.37c-.4-.4-.92-.59-1.43-.59-.52 0-1.04.2-1.43.59L10.3 9.45l-7.72 7.72c-.78.78-.78 2.05 0 2.83L4 21.41c.39.39.9.59 1.41.59.51 0 1.02-.2 1.41-.59l7.78-7.78 2.81-2.81c.8-.78.8-2.07 0-2.86zM5.41 20L4 18.59l7.72-7.72 1.47 1.35L5.41 20z\"/>\n",
              "  </svg>\n",
              "      </button>\n",
              "      \n",
              "  <style>\n",
              "    .colab-df-container {\n",
              "      display:flex;\n",
              "      flex-wrap:wrap;\n",
              "      gap: 12px;\n",
              "    }\n",
              "\n",
              "    .colab-df-convert {\n",
              "      background-color: #E8F0FE;\n",
              "      border: none;\n",
              "      border-radius: 50%;\n",
              "      cursor: pointer;\n",
              "      display: none;\n",
              "      fill: #1967D2;\n",
              "      height: 32px;\n",
              "      padding: 0 0 0 0;\n",
              "      width: 32px;\n",
              "    }\n",
              "\n",
              "    .colab-df-convert:hover {\n",
              "      background-color: #E2EBFA;\n",
              "      box-shadow: 0px 1px 2px rgba(60, 64, 67, 0.3), 0px 1px 3px 1px rgba(60, 64, 67, 0.15);\n",
              "      fill: #174EA6;\n",
              "    }\n",
              "\n",
              "    [theme=dark] .colab-df-convert {\n",
              "      background-color: #3B4455;\n",
              "      fill: #D2E3FC;\n",
              "    }\n",
              "\n",
              "    [theme=dark] .colab-df-convert:hover {\n",
              "      background-color: #434B5C;\n",
              "      box-shadow: 0px 1px 3px 1px rgba(0, 0, 0, 0.15);\n",
              "      filter: drop-shadow(0px 1px 2px rgba(0, 0, 0, 0.3));\n",
              "      fill: #FFFFFF;\n",
              "    }\n",
              "  </style>\n",
              "\n",
              "      <script>\n",
              "        const buttonEl =\n",
              "          document.querySelector('#df-4ed571f8-8d45-4bfe-91ed-246eb710d717 button.colab-df-convert');\n",
              "        buttonEl.style.display =\n",
              "          google.colab.kernel.accessAllowed ? 'block' : 'none';\n",
              "\n",
              "        async function convertToInteractive(key) {\n",
              "          const element = document.querySelector('#df-4ed571f8-8d45-4bfe-91ed-246eb710d717');\n",
              "          const dataTable =\n",
              "            await google.colab.kernel.invokeFunction('convertToInteractive',\n",
              "                                                     [key], {});\n",
              "          if (!dataTable) return;\n",
              "\n",
              "          const docLinkHtml = 'Like what you see? Visit the ' +\n",
              "            '<a target=\"_blank\" href=https://colab.research.google.com/notebooks/data_table.ipynb>data table notebook</a>'\n",
              "            + ' to learn more about interactive tables.';\n",
              "          element.innerHTML = '';\n",
              "          dataTable['output_type'] = 'display_data';\n",
              "          await google.colab.output.renderOutput(dataTable, element);\n",
              "          const docLink = document.createElement('div');\n",
              "          docLink.innerHTML = docLinkHtml;\n",
              "          element.appendChild(docLink);\n",
              "        }\n",
              "      </script>\n",
              "    </div>\n",
              "  </div>\n",
              "  "
            ]
          },
          "metadata": {},
          "execution_count": 190
        }
      ]
    },
    {
      "cell_type": "markdown",
      "source": [
        "dropping unnamed column"
      ],
      "metadata": {
        "id": "GkBWq5XdkBAq"
      }
    },
    {
      "cell_type": "code",
      "source": [
        "jobdf.drop(columns=['Unnamed: 0'],axis=1, inplace=True)"
      ],
      "metadata": {
        "id": "bNgU_x6skAfm"
      },
      "execution_count": 191,
      "outputs": []
    },
    {
      "cell_type": "code",
      "source": [
        "nullval = jobdf.isnull().sum()\n",
        "plt.figure(figsize=(10,5))\n",
        "plt.bar(jobdf.columns,nullval,color = 'orange', edgecolor = 'white')\n",
        "plt.xlabel('Null values')\n",
        "plt.xticks(rotation='vertical')\n",
        "plt.show()"
      ],
      "metadata": {
        "colab": {
          "base_uri": "https://localhost:8080/",
          "height": 426
        },
        "id": "5eIylXhwkQXF",
        "outputId": "9b32ee39-4f09-4373-d0f1-c9e7269b990f"
      },
      "execution_count": 192,
      "outputs": [
        {
          "output_type": "display_data",
          "data": {
            "text/plain": [
              "<Figure size 720x360 with 1 Axes>"
            ],
            "image/png": "[encoded data removed]"
          },
          "metadata": {
            "needs_background": "light"
          }
        }
      ]
    },
    {
      "cell_type": "code",
      "source": [
        "jobdf['fraudulent'].value_counts()"
      ],
      "metadata": {
        "colab": {
          "base_uri": "https://localhost:8080/"
        },
        "id": "AxJS7P5EluCu",
        "outputId": "5a1bc515-8ac5-457b-b539-de0aacbfcccc"
      },
      "execution_count": 193,
      "outputs": [
        {
          "output_type": "execute_result",
          "data": {
            "text/plain": [
              "0    175\n",
              "1     45\n",
              "Name: fraudulent, dtype: int64"
            ]
          },
          "metadata": {},
          "execution_count": 193
        }
      ]
    },
    {
      "cell_type": "markdown",
      "source": [
        "#Finding word length count of company_profile, job description, requirements, benefits."
      ],
      "metadata": {
        "id": "f8Hwqd_Dz6Fk"
      }
    },
    {
      "cell_type": "code",
      "execution_count": 194,
      "metadata": {
        "colab": {
          "base_uri": "https://localhost:8080/"
        },
        "id": "gy5SYEXOTJ8_",
        "outputId": "75bf284d-e45b-4360-f766-68e71a1d9810"
      },
      "outputs": [
        {
          "output_type": "stream",
          "name": "stdout",
          "text": [
            "0    158\n",
            "1      3\n",
            "2    281\n",
            "3      1\n",
            "4      1\n",
            "Name: company_profile, dtype: int64\n",
            "0     79\n",
            "1    177\n",
            "2     86\n",
            "3     38\n",
            "4     58\n",
            "Name: description, dtype: int64\n",
            "0     2\n",
            "1     2\n",
            "2    50\n",
            "3    36\n",
            "4     1\n",
            "Name: requirements, dtype: int64\n",
            "0    1\n",
            "1    1\n",
            "2    1\n",
            "3    1\n",
            "4    1\n",
            "Name: benefits, dtype: int64\n"
          ]
        }
      ],
      "source": [
        "#print(mydf['required_education'].unique())\n",
        "function = lambda x:len(x.split(' '))\n",
        "\n",
        "len_compprof = jobdf['company_profile'].astype(str).apply(function)\n",
        "len_desc = jobdf['description'].astype(str).apply(function)\n",
        "len_req = jobdf['requirements'].astype(str).apply(function)\n",
        "len_benefits = jobdf['benefits'].astype(str).apply(function)\n",
        "\n",
        "print(len_compprof.head())\n",
        "print(len_desc.head())\n",
        "print(len_req.head())\n",
        "print(len_benefits.head())\n",
        "\n",
        "jobdf['compprof_len'] = len_compprof\n",
        "jobdf['desc_len'] = len_desc\n",
        "jobdf['req_len'] = len_req\n",
        "jobdf['benefits_len'] = len_benefits\n"
      ]
    },
    {
      "cell_type": "markdown",
      "source": [
        "#Utilizing NA values in columns. Create new columns like no_description,no_benefits,no_companyProfile, etc. and put 1 if true."
      ],
      "metadata": {
        "id": "mXpJMg-114nH"
      }
    },
    {
      "cell_type": "markdown",
      "source": [
        "Replacing benefits NaN values by 'empty'"
      ],
      "metadata": {
        "id": "o91V9wpWGubb"
      }
    },
    {
      "cell_type": "code",
      "source": [
        "jobdf['company_profile'].fillna('Empty',inplace=True)\n",
        "jobdf['requirements'].fillna('Empty',inplace=True)\n",
        "jobdf['description'].fillna('Empty',inplace=True)\n",
        "jobdf['benefits'].fillna('Empty',inplace=True)"
      ],
      "metadata": {
        "id": "6XnPimjeGuzb"
      },
      "execution_count": 195,
      "outputs": []
    },
    {
      "cell_type": "code",
      "source": [
        "print(jobdf.head())"
      ],
      "metadata": {
        "colab": {
          "base_uri": "https://localhost:8080/"
        },
        "id": "UjOpbezzrIeW",
        "outputId": "87e0a30c-ba6f-411d-96a6-5b1da2d81b70"
      },
      "execution_count": 196,
      "outputs": [
        {
          "output_type": "stream",
          "name": "stdout",
          "text": [
            "                                               title               location  \\\n",
            "0                                        QA Engineer  Bengaluru / Bangalore   \n",
            "1                                                PMO  Bengaluru / Bangalore   \n",
            "2                                       Chat Support             Chandigarh   \n",
            "3                                   Angular Engineer                 Remote   \n",
            "4  Work From Home -Technical Support- Work From H...                 Remote   \n",
            "\n",
            "    salary_range                                    company_profile  \\\n",
            "0            NaN  Quess IT Staffing. Founded in 1997 as an entre...   \n",
            "1            NaN                             Templeton and Partners   \n",
            "2  240000-280000  Tech Mahindra is part of the US $15.4 billion ...   \n",
            "3            NaN                                    theuniversal.in   \n",
            "4  220000-409999                                              Empty   \n",
            "\n",
            "                                         description  \\\n",
            "0  End to End Functional testing of virtual educa...   \n",
            "1  Understand the Project Delivery Framework (PDF...   \n",
            "2  Process:- English process (Chat Process)\\nNote...   \n",
            "3  Responsibilities :1. Work closely with the tea...   \n",
            "4  Job Description:Voice support to the customer....   \n",
            "\n",
            "                                        requirements benefits  telecommuting  \\\n",
            "0                                       Api Testing     Empty              0   \n",
            "1                                    Project Finance    Empty              0   \n",
            "2  Eligibility Criteria:-\\nMandatory: Excellent c...    Empty              0   \n",
            "3  Technical skills required :1. Angular 10 and a...    Empty              1   \n",
            "4                                              Empty    Empty              1   \n",
            "\n",
            "   has_company_logo  has_questions employment_type required_education  \\\n",
            "0                 1              1       Full time            Masters   \n",
            "1                 0              1       Part time            Masters   \n",
            "2                 1              1       Full time          Bachelors   \n",
            "3                 0              0       Full time         Bachelors    \n",
            "4                 0              0       Part time          Bachelors   \n",
            "\n",
            "  required_experience                                           industry  \\\n",
            "0    Mid-Senior level  IT/Computers - Hardware & Networking , IT/Comp...   \n",
            "1    Mid-Senior level                          IT / Computers - Software   \n",
            "2           Associate                                           ITES/BPO   \n",
            "3           Associate                            IT/Computers - Software   \n",
            "4           Associate                                            Telecom   \n",
            "\n",
            "                           function  fraudulent  compprof_len  desc_len  \\\n",
            "0                                IT           0           158        79   \n",
            "1                               NaN           0             3       177   \n",
            "2  Customer Service/Call Centre/BPO           0           281        86   \n",
            "3                                IT           1             1        38   \n",
            "4  Customer Service/Call Centre/BPO           1             1        58   \n",
            "\n",
            "   req_len  benefits_len  \n",
            "0        2             1  \n",
            "1        2             1  \n",
            "2       50             1  \n",
            "3       36             1  \n",
            "4        1             1  \n"
          ]
        }
      ]
    },
    {
      "cell_type": "markdown",
      "source": [
        "shuffling rows"
      ],
      "metadata": {
        "id": "nQeZo3Pcs2ks"
      }
    },
    {
      "cell_type": "code",
      "source": [
        "#jobdf = jobdf.sample(frac=1).reset_index(drop=True)"
      ],
      "metadata": {
        "id": "u0u2ByLLsevL"
      },
      "execution_count": 61,
      "outputs": []
    },
    {
      "cell_type": "code",
      "source": [
        "print(jobdf.head())"
      ],
      "metadata": {
        "colab": {
          "base_uri": "https://localhost:8080/"
        },
        "id": "gKhutjbnsvY6",
        "outputId": "fb497ccb-a4f0-4834-c7cf-66b2d7fd4df1"
      },
      "execution_count": 197,
      "outputs": [
        {
          "output_type": "stream",
          "name": "stdout",
          "text": [
            "                                               title               location  \\\n",
            "0                                        QA Engineer  Bengaluru / Bangalore   \n",
            "1                                                PMO  Bengaluru / Bangalore   \n",
            "2                                       Chat Support             Chandigarh   \n",
            "3                                   Angular Engineer                 Remote   \n",
            "4  Work From Home -Technical Support- Work From H...                 Remote   \n",
            "\n",
            "    salary_range                                    company_profile  \\\n",
            "0            NaN  Quess IT Staffing. Founded in 1997 as an entre...   \n",
            "1            NaN                             Templeton and Partners   \n",
            "2  240000-280000  Tech Mahindra is part of the US $15.4 billion ...   \n",
            "3            NaN                                    theuniversal.in   \n",
            "4  220000-409999                                              Empty   \n",
            "\n",
            "                                         description  \\\n",
            "0  End to End Functional testing of virtual educa...   \n",
            "1  Understand the Project Delivery Framework (PDF...   \n",
            "2  Process:- English process (Chat Process)\\nNote...   \n",
            "3  Responsibilities :1. Work closely with the tea...   \n",
            "4  Job Description:Voice support to the customer....   \n",
            "\n",
            "                                        requirements benefits  telecommuting  \\\n",
            "0                                       Api Testing     Empty              0   \n",
            "1                                    Project Finance    Empty              0   \n",
            "2  Eligibility Criteria:-\\nMandatory: Excellent c...    Empty              0   \n",
            "3  Technical skills required :1. Angular 10 and a...    Empty              1   \n",
            "4                                              Empty    Empty              1   \n",
            "\n",
            "   has_company_logo  has_questions employment_type required_education  \\\n",
            "0                 1              1       Full time            Masters   \n",
            "1                 0              1       Part time            Masters   \n",
            "2                 1              1       Full time          Bachelors   \n",
            "3                 0              0       Full time         Bachelors    \n",
            "4                 0              0       Part time          Bachelors   \n",
            "\n",
            "  required_experience                                           industry  \\\n",
            "0    Mid-Senior level  IT/Computers - Hardware & Networking , IT/Comp...   \n",
            "1    Mid-Senior level                          IT / Computers - Software   \n",
            "2           Associate                                           ITES/BPO   \n",
            "3           Associate                            IT/Computers - Software   \n",
            "4           Associate                                            Telecom   \n",
            "\n",
            "                           function  fraudulent  compprof_len  desc_len  \\\n",
            "0                                IT           0           158        79   \n",
            "1                               NaN           0             3       177   \n",
            "2  Customer Service/Call Centre/BPO           0           281        86   \n",
            "3                                IT           1             1        38   \n",
            "4  Customer Service/Call Centre/BPO           1             1        58   \n",
            "\n",
            "   req_len  benefits_len  \n",
            "0        2             1  \n",
            "1        2             1  \n",
            "2       50             1  \n",
            "3       36             1  \n",
            "4        1             1  \n"
          ]
        }
      ]
    },
    {
      "cell_type": "code",
      "source": [
        ""
      ],
      "metadata": {
        "id": "RoEt_9Als1Y0"
      },
      "execution_count": 62,
      "outputs": []
    },
    {
      "cell_type": "markdown",
      "source": [
        "Creating new column empty_benefits, empty_desc, empty_compprof having value as 1 or 0."
      ],
      "metadata": {
        "id": "o5_-q0J_Xn5m"
      }
    },
    {
      "cell_type": "code",
      "execution_count": 198,
      "metadata": {
        "id": "EKtvJ100KqVt"
      },
      "outputs": [],
      "source": [
        "checkNA = lambda x: 1 if x=='Empty' else 0\n",
        "\n",
        "empty_compprof = pd.DataFrame(jobdf['company_profile'].astype(str).apply(checkNA))\n",
        "empty_desc = pd.DataFrame(jobdf['description'].astype(str).apply(checkNA))\n",
        "empty_req = pd.DataFrame(jobdf['requirements'].astype(str).apply(checkNA))\n",
        "empty_benefits = pd.DataFrame(jobdf['benefits'].astype(str).apply(checkNA))\n",
        "\n",
        "\n",
        "# print(empty_benefits.value_counts())\n",
        "# print(empty_benefits[:10])"
      ]
    },
    {
      "cell_type": "code",
      "source": [
        "jobdf['empty_compprof'] = empty_compprof\n",
        "jobdf['empty_desc'] = empty_desc\n",
        "jobdf['empty_req'] = empty_req\n",
        "jobdf['empty_benefits'] = empty_benefits\n",
        "\n"
      ],
      "metadata": {
        "id": "ZKwRX7B8YyVN"
      },
      "execution_count": 199,
      "outputs": []
    },
    {
      "cell_type": "code",
      "source": [
        "print(jobdf.head())"
      ],
      "metadata": {
        "colab": {
          "base_uri": "https://localhost:8080/"
        },
        "id": "ZUurEzeAtGGq",
        "outputId": "286033db-2f9f-4eae-c4ff-6543f91095f2"
      },
      "execution_count": 200,
      "outputs": [
        {
          "output_type": "stream",
          "name": "stdout",
          "text": [
            "                                               title               location  \\\n",
            "0                                        QA Engineer  Bengaluru / Bangalore   \n",
            "1                                                PMO  Bengaluru / Bangalore   \n",
            "2                                       Chat Support             Chandigarh   \n",
            "3                                   Angular Engineer                 Remote   \n",
            "4  Work From Home -Technical Support- Work From H...                 Remote   \n",
            "\n",
            "    salary_range                                    company_profile  \\\n",
            "0            NaN  Quess IT Staffing. Founded in 1997 as an entre...   \n",
            "1            NaN                             Templeton and Partners   \n",
            "2  240000-280000  Tech Mahindra is part of the US $15.4 billion ...   \n",
            "3            NaN                                    theuniversal.in   \n",
            "4  220000-409999                                              Empty   \n",
            "\n",
            "                                         description  \\\n",
            "0  End to End Functional testing of virtual educa...   \n",
            "1  Understand the Project Delivery Framework (PDF...   \n",
            "2  Process:- English process (Chat Process)\\nNote...   \n",
            "3  Responsibilities :1. Work closely with the tea...   \n",
            "4  Job Description:Voice support to the customer....   \n",
            "\n",
            "                                        requirements benefits  telecommuting  \\\n",
            "0                                       Api Testing     Empty              0   \n",
            "1                                    Project Finance    Empty              0   \n",
            "2  Eligibility Criteria:-\\nMandatory: Excellent c...    Empty              0   \n",
            "3  Technical skills required :1. Angular 10 and a...    Empty              1   \n",
            "4                                              Empty    Empty              1   \n",
            "\n",
            "   has_company_logo  has_questions employment_type required_education  \\\n",
            "0                 1              1       Full time            Masters   \n",
            "1                 0              1       Part time            Masters   \n",
            "2                 1              1       Full time          Bachelors   \n",
            "3                 0              0       Full time         Bachelors    \n",
            "4                 0              0       Part time          Bachelors   \n",
            "\n",
            "  required_experience                                           industry  \\\n",
            "0    Mid-Senior level  IT/Computers - Hardware & Networking , IT/Comp...   \n",
            "1    Mid-Senior level                          IT / Computers - Software   \n",
            "2           Associate                                           ITES/BPO   \n",
            "3           Associate                            IT/Computers - Software   \n",
            "4           Associate                                            Telecom   \n",
            "\n",
            "                           function  fraudulent  compprof_len  desc_len  \\\n",
            "0                                IT           0           158        79   \n",
            "1                               NaN           0             3       177   \n",
            "2  Customer Service/Call Centre/BPO           0           281        86   \n",
            "3                                IT           1             1        38   \n",
            "4  Customer Service/Call Centre/BPO           1             1        58   \n",
            "\n",
            "   req_len  benefits_len  empty_compprof  empty_desc  empty_req  \\\n",
            "0        2             1               0           0          0   \n",
            "1        2             1               0           0          0   \n",
            "2       50             1               0           0          0   \n",
            "3       36             1               0           0          0   \n",
            "4        1             1               1           0          1   \n",
            "\n",
            "   empty_benefits  \n",
            "0               1  \n",
            "1               1  \n",
            "2               1  \n",
            "3               1  \n",
            "4               1  \n"
          ]
        }
      ]
    },
    {
      "cell_type": "code",
      "source": [
        "desc_fraud = pd.DataFrame(jobdf[jobdf['fraudulent']==1].desc_len)\n",
        "desc_nonfraud = pd.DataFrame(jobdf[jobdf['fraudulent']==0].desc_len)\n",
        "\n",
        "print(type(desc_nonfraud))\n",
        "\n",
        "desc_fraud.reset_index(drop=True,inplace=True)\n",
        "desc_nonfraud.reset_index(drop=True,inplace=True)"
      ],
      "metadata": {
        "id": "86W3W_IItLqT",
        "colab": {
          "base_uri": "https://localhost:8080/"
        },
        "outputId": "9d9a2174-83bc-4f97-ca2f-435d2d7104f3"
      },
      "execution_count": 201,
      "outputs": [
        {
          "output_type": "stream",
          "name": "stdout",
          "text": [
            "<class 'pandas.core.frame.DataFrame'>\n"
          ]
        }
      ]
    },
    {
      "cell_type": "code",
      "source": [
        "sns.displot(desc_nonfraud['desc_len'], height = 5, aspect = 5)\n",
        "plt.xlim([-1,400])\n",
        "plt.xlabel('Desc Word Count for Non-Fraud job adverts', fontsize = 20)\n",
        "plt.ylabel('Non-Fraud Job Adverts', fontsize = 20)\n",
        "plt.xticks(range(0,500, 10), rotation='vertical', fontsize = 20)\n",
        "plt.yticks(range(0,len(list(desc_nonfraud['desc_len'])),20), fontsize = 20)\n",
        "plt.show()"
      ],
      "metadata": {
        "colab": {
          "base_uri": "https://localhost:8080/",
          "height": 354
        },
        "id": "ZBQ1zS4N7BQN",
        "outputId": "c52c8743-960b-47f3-e928-9107857b8159"
      },
      "execution_count": 202,
      "outputs": [
        {
          "output_type": "display_data",
          "data": {
            "text/plain": [
              "<Figure size 1800x360 with 1 Axes>"
            ],
            "image/png": "[encoded data removed]"
          },
          "metadata": {
            "needs_background": "light"
          }
        }
      ]
    },
    {
      "cell_type": "code",
      "source": [
        "sns.displot(desc_fraud['desc_len'], height = 5, aspect = 5)\n",
        "plt.xlim([-1,400])\n",
        "plt.xlabel('Desc Word Count for Fraud job adverts', fontsize = 20)\n",
        "plt.ylabel('Fraud Job Adverts', fontsize = 20)\n",
        "plt.xticks(range(0,max(list(desc_fraud['desc_len'])), 10), rotation='vertical', fontsize = 20)\n",
        "plt.yticks(range(0,len(list(desc_fraud['desc_len'])), 5), fontsize = 20)\n",
        "plt.show()"
      ],
      "metadata": {
        "colab": {
          "base_uri": "https://localhost:8080/",
          "height": 359
        },
        "id": "dIqvc_ys7bGd",
        "outputId": "b902b21e-cf72-45f5-9f70-86c0efea9f31"
      },
      "execution_count": 68,
      "outputs": [
        {
          "output_type": "display_data",
          "data": {
            "text/plain": [
              "<Figure size 1800x360 with 1 Axes>"
            ],
            "image/png": "[encoded data removed]"
          },
          "metadata": {
            "needs_background": "light"
          }
        }
      ]
    },
    {
      "cell_type": "code",
      "source": [
        "len(jobdf[(jobdf['desc_len']<=90) & (jobdf['fraudulent']==0)])"
      ],
      "metadata": {
        "colab": {
          "base_uri": "https://localhost:8080/"
        },
        "id": "lbx_AKlj8D2j",
        "outputId": "4ccff1cd-424e-4bc3-8676-b319997ad91b"
      },
      "execution_count": 69,
      "outputs": [
        {
          "output_type": "execute_result",
          "data": {
            "text/plain": [
              "77"
            ]
          },
          "metadata": {},
          "execution_count": 69
        }
      ]
    },
    {
      "cell_type": "markdown",
      "source": [
        "77 out of 175 genuine jobs have desc_len under 90.(44%).\n",
        "33 out of 45 fraud jobs have desc_len under 90.(73%)."
      ],
      "metadata": {
        "id": "9oJ3belW9gxy"
      }
    },
    {
      "cell_type": "code",
      "source": [
        "#has short description\n",
        "def has_short_description(x):\n",
        "  if x <= 90:\n",
        "    return 1\n",
        "  else:\n",
        "    return 0\n",
        "\n",
        "#has_short_desc = lambda x: 1 if x<=100 else 0\n",
        "\n",
        "short_desc_list = jobdf['desc_len'].apply(has_short_description)"
      ],
      "metadata": {
        "id": "NgbXkAoyNAD1"
      },
      "execution_count": 203,
      "outputs": []
    },
    {
      "cell_type": "code",
      "source": [
        "jobdf['has_short_desc'] = short_desc_list\n",
        "print(short_desc_list[0:5], \"\\n\", jobdf.desc_len.head(5))\n",
        "\n"
      ],
      "metadata": {
        "colab": {
          "base_uri": "https://localhost:8080/"
        },
        "id": "ISGyuK7NN3rc",
        "outputId": "dddbbd0c-e853-44a7-9474-0827ac35b149"
      },
      "execution_count": 204,
      "outputs": [
        {
          "output_type": "stream",
          "name": "stdout",
          "text": [
            "0    1\n",
            "1    0\n",
            "2    1\n",
            "3    1\n",
            "4    1\n",
            "Name: desc_len, dtype: int64 \n",
            " 0     79\n",
            "1    177\n",
            "2     86\n",
            "3     38\n",
            "4     58\n",
            "Name: desc_len, dtype: int64\n"
          ]
        }
      ]
    },
    {
      "cell_type": "code",
      "source": [
        "benefits_fraud = pd.DataFrame(jobdf[jobdf['fraudulent']==1].benefits_len)\n",
        "benefits_nonfraud = pd.DataFrame(jobdf[jobdf['fraudulent']==0].benefits_len)\n",
        "\n",
        "print(type(benefits_nonfraud))\n",
        "\n",
        "benefits_fraud.reset_index(drop=True,inplace=True)\n",
        "benefits_nonfraud.reset_index(drop=True,inplace=True)"
      ],
      "metadata": {
        "colab": {
          "base_uri": "https://localhost:8080/"
        },
        "id": "YUmtaoRJQJV4",
        "outputId": "01fda0eb-01e9-4633-bce2-145a82940bf3"
      },
      "execution_count": 205,
      "outputs": [
        {
          "output_type": "stream",
          "name": "stdout",
          "text": [
            "<class 'pandas.core.frame.DataFrame'>\n"
          ]
        }
      ]
    },
    {
      "cell_type": "code",
      "source": [
        "sns.displot(list(benefits_nonfraud['benefits_len']), height = 5, aspect = 5)\n",
        "plt.xlim([-1,400])\n",
        "plt.xlabel('Benefits Word Count for Non-Fraud job adverts', fontsize = 20)\n",
        "plt.ylabel('Non-Fraud Job Adverts', fontsize = 20)\n",
        "plt.xticks(range(0,450,10), rotation='vertical', fontsize = 20)\n",
        "plt.yticks(range(0,len(list(benefits_nonfraud['benefits_len'])),20), fontsize = 20)\n",
        "plt.show()"
      ],
      "metadata": {
        "colab": {
          "base_uri": "https://localhost:8080/",
          "height": 369
        },
        "id": "SjPlEVPpP5Ro",
        "outputId": "1f28103b-0fd9-41e1-9aa7-370d41a0c2d0"
      },
      "execution_count": 206,
      "outputs": [
        {
          "output_type": "display_data",
          "data": {
            "text/plain": [
              "<Figure size 1800x360 with 1 Axes>"
            ],
            "image/png": "[encoded data removed]"
          },
          "metadata": {
            "needs_background": "light"
          }
        }
      ]
    },
    {
      "cell_type": "code",
      "source": [
        "sns.displot(list(benefits_fraud['benefits_len']), height = 5, aspect = 5)\n",
        "plt.xlim([-1,400])\n",
        "plt.xlabel('Benefits Word Count for Fraud job adverts', fontsize = 20)\n",
        "plt.ylabel('Fraud Job Adverts', fontsize = 20)\n",
        "plt.xticks(range(0,400,5), rotation='vertical', fontsize = 20)\n",
        "plt.yticks(range(0,len(list(benefits_fraud['benefits_len'])),10), fontsize = 20)\n",
        "plt.show()"
      ],
      "metadata": {
        "colab": {
          "base_uri": "https://localhost:8080/",
          "height": 372
        },
        "id": "iuRNGHKvQsuj",
        "outputId": "2abc7fb1-fd88-4ba3-fc96-a9c90ee29d5d"
      },
      "execution_count": 207,
      "outputs": [
        {
          "output_type": "display_data",
          "data": {
            "text/plain": [
              "<Figure size 1800x360 with 1 Axes>"
            ],
            "image/png": "[encoded data removed]"
          },
          "metadata": {
            "needs_background": "light"
          }
        }
      ]
    },
    {
      "cell_type": "code",
      "source": [
        "len(jobdf[(jobdf['benefits_len']<=10) & (jobdf['fraudulent']==1)])"
      ],
      "metadata": {
        "colab": {
          "base_uri": "https://localhost:8080/"
        },
        "id": "cluzcgUXQzgJ",
        "outputId": "f56e816a-d853-4f26-b0ab-9c62f3f34686"
      },
      "execution_count": 75,
      "outputs": [
        {
          "output_type": "execute_result",
          "data": {
            "text/plain": [
              "38"
            ]
          },
          "metadata": {},
          "execution_count": 75
        }
      ]
    },
    {
      "cell_type": "markdown",
      "source": [
        "Company profile length"
      ],
      "metadata": {
        "id": "hxvVCx-gnJl9"
      }
    },
    {
      "cell_type": "code",
      "source": [
        "compprof_fraud = pd.DataFrame(jobdf[jobdf['fraudulent']==1].compprof_len)\n",
        "compprof_nonfraud = pd.DataFrame(jobdf[jobdf['fraudulent']==0].compprof_len)\n",
        "\n",
        "print(type(compprof_nonfraud))\n",
        "\n",
        "compprof_fraud.reset_index(drop=True,inplace=True)\n",
        "compprof_nonfraud.reset_index(drop=True,inplace=True)"
      ],
      "metadata": {
        "colab": {
          "base_uri": "https://localhost:8080/"
        },
        "id": "O_FLT_XbnIXc",
        "outputId": "1c614d57-37aa-4e1d-93b3-441abe19143a"
      },
      "execution_count": 208,
      "outputs": [
        {
          "output_type": "stream",
          "name": "stdout",
          "text": [
            "<class 'pandas.core.frame.DataFrame'>\n"
          ]
        }
      ]
    },
    {
      "cell_type": "code",
      "source": [
        "sns.displot(list(compprof_nonfraud['compprof_len']), height = 5, aspect = 5)\n",
        "plt.xlim([-1,400])\n",
        "plt.xlabel('Company Profile Word Count for Non-Fraud job adverts', fontsize = 20)\n",
        "plt.ylabel('Non-Fraud Job Adverts', fontsize = 20)\n",
        "plt.xticks(range(0,400,10), rotation='vertical', fontsize = 20)\n",
        "plt.yticks(range(0,len(list(compprof_nonfraud['compprof_len'])),10), fontsize = 20)\n",
        "plt.show()"
      ],
      "metadata": {
        "colab": {
          "base_uri": "https://localhost:8080/",
          "height": 370
        },
        "id": "kIaifyPMnZoH",
        "outputId": "a0627b8a-38e6-4ec7-d941-f2bc7d809dd2"
      },
      "execution_count": 209,
      "outputs": [
        {
          "output_type": "display_data",
          "data": {
            "text/plain": [
              "<Figure size 1800x360 with 1 Axes>"
            ],
            "image/png": "[encoded data removed]"
          },
          "metadata": {
            "needs_background": "light"
          }
        }
      ]
    },
    {
      "cell_type": "code",
      "source": [
        "sns.displot(list(compprof_fraud['compprof_len']), height = 5, aspect = 5)\n",
        "plt.xlim([-1,400])\n",
        "plt.xlabel('Company Profile Word Count for Fraud job adverts', fontsize = 20)\n",
        "plt.ylabel('Fraud Job Adverts', fontsize = 20)\n",
        "plt.xticks(range(0,400,5), rotation='vertical', fontsize = 20)\n",
        "plt.yticks(range(0,len(list(compprof_fraud['compprof_len'])),10), fontsize = 20)\n",
        "plt.show()"
      ],
      "metadata": {
        "colab": {
          "base_uri": "https://localhost:8080/",
          "height": 372
        },
        "id": "SVpQlhe1oYLs",
        "outputId": "7770394a-fd54-4256-cb99-1d45b14fe1bf"
      },
      "execution_count": 210,
      "outputs": [
        {
          "output_type": "display_data",
          "data": {
            "text/plain": [
              "<Figure size 1800x360 with 1 Axes>"
            ],
            "image/png": "[encoded data removed]"
          },
          "metadata": {
            "needs_background": "light"
          }
        }
      ]
    },
    {
      "cell_type": "code",
      "source": [
        "len(jobdf[(jobdf['compprof_len']<=50) & (jobdf['fraudulent']==1)])"
      ],
      "metadata": {
        "colab": {
          "base_uri": "https://localhost:8080/"
        },
        "id": "vbdTe9WLojrB",
        "outputId": "3d6cba2e-214a-49d4-d414-aeb30da6d811"
      },
      "execution_count": 79,
      "outputs": [
        {
          "output_type": "execute_result",
          "data": {
            "text/plain": [
              "34"
            ]
          },
          "metadata": {},
          "execution_count": 79
        }
      ]
    },
    {
      "cell_type": "code",
      "source": [
        "#has short company profile\n",
        "def has_short_compprof(x):\n",
        "  if x <= 50:\n",
        "    return 1\n",
        "  else:\n",
        "    return 0\n",
        "\n",
        "#has_short_desc = lambda x: 1 if x<=100 else 0\n",
        "\n",
        "short_compprof_list = jobdf['compprof_len'].apply(has_short_compprof)"
      ],
      "metadata": {
        "id": "lipSttIJXKQL"
      },
      "execution_count": 211,
      "outputs": []
    },
    {
      "cell_type": "code",
      "source": [
        "jobdf['has_short_compprof'] = short_compprof_list\n",
        "print(short_compprof_list[0:5], \"\\n\", jobdf.compprof_len.head(5))"
      ],
      "metadata": {
        "colab": {
          "base_uri": "https://localhost:8080/"
        },
        "id": "wFrmXkE5XJ44",
        "outputId": "ff4f398f-72a6-4935-c2af-aa1462b8d812"
      },
      "execution_count": 212,
      "outputs": [
        {
          "output_type": "stream",
          "name": "stdout",
          "text": [
            "0    0\n",
            "1    1\n",
            "2    0\n",
            "3    1\n",
            "4    1\n",
            "Name: compprof_len, dtype: int64 \n",
            " 0    158\n",
            "1      3\n",
            "2    281\n",
            "3      1\n",
            "4      1\n",
            "Name: compprof_len, dtype: int64\n"
          ]
        }
      ]
    },
    {
      "cell_type": "code",
      "source": [
        "req_len_fraud = pd.DataFrame(jobdf[jobdf['fraudulent']==1].req_len)\n",
        "req_len_nonfraud = pd.DataFrame(jobdf[jobdf['fraudulent']==0].req_len)\n",
        "\n",
        "print(type(req_len_fraud))\n",
        "\n",
        "req_len_fraud.reset_index(drop=True,inplace=True)\n",
        "req_len_nonfraud.reset_index(drop=True,inplace=True)"
      ],
      "metadata": {
        "colab": {
          "base_uri": "https://localhost:8080/"
        },
        "id": "C_SbjMBGo55T",
        "outputId": "8fd748f6-3185-4019-cc68-1526dd5d2fae"
      },
      "execution_count": 213,
      "outputs": [
        {
          "output_type": "stream",
          "name": "stdout",
          "text": [
            "<class 'pandas.core.frame.DataFrame'>\n"
          ]
        }
      ]
    },
    {
      "cell_type": "code",
      "source": [
        "sns.displot(list(req_len_nonfraud['req_len']), height = 5, aspect = 5)\n",
        "plt.xlim([-1,400])\n",
        "plt.xlabel('Requirements Word Count for Non-Fraud job adverts', fontsize = 20)\n",
        "plt.ylabel('Non-Fraud Job Adverts', fontsize = 20)\n",
        "plt.xticks(range(0,500,10), rotation='vertical', fontsize = 20)\n",
        "plt.yticks(range(0,len(list(req_len_nonfraud['req_len'])),10), fontsize = 20)\n",
        "plt.show()"
      ],
      "metadata": {
        "colab": {
          "base_uri": "https://localhost:8080/",
          "height": 368
        },
        "id": "Cq7eghTbpN2X",
        "outputId": "fe9e6ede-050e-45f2-92d8-f9e9422fa2d8"
      },
      "execution_count": 214,
      "outputs": [
        {
          "output_type": "display_data",
          "data": {
            "text/plain": [
              "<Figure size 1800x360 with 1 Axes>"
            ],
            "image/png": "[encoded data removed]"
          },
          "metadata": {
            "needs_background": "light"
          }
        }
      ]
    },
    {
      "cell_type": "code",
      "source": [
        "sns.displot(list(req_len_fraud['req_len']), height = 5, aspect = 5)\n",
        "plt.xlim([-1,400])\n",
        "plt.xlabel('Requirements Word Count for Fraud job adverts', fontsize = 20)\n",
        "plt.ylabel('Fraud Job Adverts', fontsize = 20)\n",
        "plt.xticks(range(0,500,5), rotation='vertical', fontsize = 20)\n",
        "plt.yticks(range(0,len(list(req_len_fraud['req_len'])), 10), fontsize = 20)\n",
        "plt.show()"
      ],
      "metadata": {
        "colab": {
          "base_uri": "https://localhost:8080/",
          "height": 370
        },
        "id": "gbkKp_HBpdv8",
        "outputId": "849325ac-0618-41b8-e434-59bf054f7c0b"
      },
      "execution_count": 215,
      "outputs": [
        {
          "output_type": "display_data",
          "data": {
            "text/plain": [
              "<Figure size 1800x360 with 1 Axes>"
            ],
            "image/png": "[encoded data removed]"
          },
          "metadata": {
            "needs_background": "light"
          }
        }
      ]
    },
    {
      "cell_type": "code",
      "source": [
        "len(jobdf[(jobdf['req_len']<=7) & (jobdf['fraudulent']==0)])"
      ],
      "metadata": {
        "colab": {
          "base_uri": "https://localhost:8080/"
        },
        "id": "ShCylCoIpoP-",
        "outputId": "13c0f020-2324-4a5f-fef4-43536e14307d"
      },
      "execution_count": 216,
      "outputs": [
        {
          "output_type": "execute_result",
          "data": {
            "text/plain": [
              "23"
            ]
          },
          "metadata": {},
          "execution_count": 216
        }
      ]
    },
    {
      "cell_type": "markdown",
      "source": [
        "28 out of 45 Fraud jobs have less than 7 requirements word count(62%).\n",
        "23 out 175 Non-Fraud jobs have less than 7 requiremnts word count(13%)."
      ],
      "metadata": {
        "id": "r4qADZtQp5fs"
      }
    },
    {
      "cell_type": "code",
      "source": [
        ""
      ],
      "metadata": {
        "id": "wHBkdQLJp2ys"
      },
      "execution_count": 85,
      "outputs": []
    },
    {
      "cell_type": "code",
      "source": [
        "#has short requirements\n",
        "def has_short_req(x):\n",
        "  if x <= 7:\n",
        "    return 1\n",
        "  else:\n",
        "    return 0\n",
        "\n",
        "#has_short_desc = lambda x: 1 if x<=100 else 0\n",
        "\n",
        "short_req_list = jobdf['req_len'].apply(has_short_req)"
      ],
      "metadata": {
        "id": "Z0GF75UHYhMI"
      },
      "execution_count": 218,
      "outputs": []
    },
    {
      "cell_type": "code",
      "source": [
        "jobdf['has_short_req'] = short_req_list\n",
        "print(short_req_list[0:5], \"\\n\", jobdf.req_len.head(5))"
      ],
      "metadata": {
        "colab": {
          "base_uri": "https://localhost:8080/"
        },
        "outputId": "6262263e-1ba2-48f1-d05c-6994ac353822",
        "id": "ciqNYepuYhMI"
      },
      "execution_count": 219,
      "outputs": [
        {
          "output_type": "stream",
          "name": "stdout",
          "text": [
            "0    1\n",
            "1    1\n",
            "2    0\n",
            "3    0\n",
            "4    1\n",
            "Name: req_len, dtype: int64 \n",
            " 0     2\n",
            "1     2\n",
            "2    50\n",
            "3    36\n",
            "4     1\n",
            "Name: req_len, dtype: int64\n"
          ]
        }
      ]
    },
    {
      "cell_type": "markdown",
      "source": [
        "Replacing NaN values to Empty"
      ],
      "metadata": {
        "id": "1JLr3Rifn0pl"
      }
    },
    {
      "cell_type": "code",
      "source": [
        "jobdf['employment_type'].fillna('Empty',inplace=True)\n",
        "jobdf['required_experience'].fillna('Empty',inplace=True)\n",
        "jobdf['required_education'].fillna('Empty',inplace=True)\n",
        "jobdf['industry'].fillna('Empty',inplace=True)\n",
        "jobdf['function'].fillna('Empty',inplace=True)\n",
        "\n"
      ],
      "metadata": {
        "id": "e1hiR5Dli-CB"
      },
      "execution_count": 220,
      "outputs": []
    },
    {
      "cell_type": "code",
      "source": [
        "jobdf.head()"
      ],
      "metadata": {
        "colab": {
          "base_uri": "https://localhost:8080/",
          "height": 565
        },
        "id": "93o6rWrbfOR2",
        "outputId": "9e226133-13cf-4118-d6e3-b20409e65ed4"
      },
      "execution_count": 221,
      "outputs": [
        {
          "output_type": "execute_result",
          "data": {
            "text/plain": [
              "                                               title               location  \\\n",
              "0                                        QA Engineer  Bengaluru / Bangalore   \n",
              "1                                                PMO  Bengaluru / Bangalore   \n",
              "2                                       Chat Support             Chandigarh   \n",
              "3                                   Angular Engineer                 Remote   \n",
              "4  Work From Home -Technical Support- Work From H...                 Remote   \n",
              "\n",
              "    salary_range                                    company_profile  \\\n",
              "0            NaN  Quess IT Staffing. Founded in 1997 as an entre...   \n",
              "1            NaN                             Templeton and Partners   \n",
              "2  240000-280000  Tech Mahindra is part of the US $15.4 billion ...   \n",
              "3            NaN                                    theuniversal.in   \n",
              "4  220000-409999                                              Empty   \n",
              "\n",
              "                                         description  \\\n",
              "0  End to End Functional testing of virtual educa...   \n",
              "1  Understand the Project Delivery Framework (PDF...   \n",
              "2  Process:- English process (Chat Process)\\nNote...   \n",
              "3  Responsibilities :1. Work closely with the tea...   \n",
              "4  Job Description:Voice support to the customer....   \n",
              "\n",
              "                                        requirements benefits  telecommuting  \\\n",
              "0                                       Api Testing     Empty              0   \n",
              "1                                    Project Finance    Empty              0   \n",
              "2  Eligibility Criteria:-\\nMandatory: Excellent c...    Empty              0   \n",
              "3  Technical skills required :1. Angular 10 and a...    Empty              1   \n",
              "4                                              Empty    Empty              1   \n",
              "\n",
              "   has_company_logo  has_questions employment_type required_education  \\\n",
              "0                 1              1       Full time            Masters   \n",
              "1                 0              1       Part time            Masters   \n",
              "2                 1              1       Full time          Bachelors   \n",
              "3                 0              0       Full time         Bachelors    \n",
              "4                 0              0       Part time          Bachelors   \n",
              "\n",
              "  required_experience                                           industry  \\\n",
              "0    Mid-Senior level  IT/Computers - Hardware & Networking , IT/Comp...   \n",
              "1    Mid-Senior level                          IT / Computers - Software   \n",
              "2           Associate                                           ITES/BPO   \n",
              "3           Associate                            IT/Computers - Software   \n",
              "4           Associate                                            Telecom   \n",
              "\n",
              "                           function  fraudulent  compprof_len  desc_len  \\\n",
              "0                                IT           0           158        79   \n",
              "1                             Empty           0             3       177   \n",
              "2  Customer Service/Call Centre/BPO           0           281        86   \n",
              "3                                IT           1             1        38   \n",
              "4  Customer Service/Call Centre/BPO           1             1        58   \n",
              "\n",
              "   req_len  benefits_len  empty_compprof  empty_desc  empty_req  \\\n",
              "0        2             1               0           0          0   \n",
              "1        2             1               0           0          0   \n",
              "2       50             1               0           0          0   \n",
              "3       36             1               0           0          0   \n",
              "4        1             1               1           0          1   \n",
              "\n",
              "   empty_benefits  has_short_desc  has_short_compprof  has_short_req  \n",
              "0               1               1                   0              1  \n",
              "1               1               0                   1              1  \n",
              "2               1               1                   0              0  \n",
              "3               1               1                   1              0  \n",
              "4               1               1                   1              1  "
            ],
            "text/html": [
              "\n",
              "  <div id=\"df-fad73aed-0bf8-406a-ad4e-b23651396f1d\">\n",
              "    <div class=\"colab-df-container\">\n",
              "      <div>\n",
              "<style scoped>\n",
              "    .dataframe tbody tr th:only-of-type {\n",
              "        vertical-align: middle;\n",
              "    }\n",
              "\n",
              "    .dataframe tbody tr th {\n",
              "        vertical-align: top;\n",
              "    }\n",
              "\n",
              "    .dataframe thead th {\n",
              "        text-align: right;\n",
              "    }\n",
              "</style>\n",
              "<table border=\"1\" class=\"dataframe\">\n",
              "  <thead>\n",
              "    <tr style=\"text-align: right;\">\n",
              "      <th></th>\n",
              "      <th>title</th>\n",
              "      <th>location</th>\n",
              "      <th>salary_range</th>\n",
              "      <th>company_profile</th>\n",
              "      <th>description</th>\n",
              "      <th>requirements</th>\n",
              "      <th>benefits</th>\n",
              "      <th>telecommuting</th>\n",
              "      <th>has_company_logo</th>\n",
              "      <th>has_questions</th>\n",
              "      <th>employment_type</th>\n",
              "      <th>required_education</th>\n",
              "      <th>required_experience</th>\n",
              "      <th>industry</th>\n",
              "      <th>function</th>\n",
              "      <th>fraudulent</th>\n",
              "      <th>compprof_len</th>\n",
              "      <th>desc_len</th>\n",
              "      <th>req_len</th>\n",
              "      <th>benefits_len</th>\n",
              "      <th>empty_compprof</th>\n",
              "      <th>empty_desc</th>\n",
              "      <th>empty_req</th>\n",
              "      <th>empty_benefits</th>\n",
              "      <th>has_short_desc</th>\n",
              "      <th>has_short_compprof</th>\n",
              "      <th>has_short_req</th>\n",
              "    </tr>\n",
              "  </thead>\n",
              "  <tbody>\n",
              "    <tr>\n",
              "      <th>0</th>\n",
              "      <td>QA Engineer</td>\n",
              "      <td>Bengaluru / Bangalore</td>\n",
              "      <td>NaN</td>\n",
              "      <td>Quess IT Staffing. Founded in 1997 as an entre...</td>\n",
              "      <td>End to End Functional testing of virtual educa...</td>\n",
              "      <td>Api Testing</td>\n",
              "      <td>Empty</td>\n",
              "      <td>0</td>\n",
              "      <td>1</td>\n",
              "      <td>1</td>\n",
              "      <td>Full time</td>\n",
              "      <td>Masters</td>\n",
              "      <td>Mid-Senior level</td>\n",
              "      <td>IT/Computers - Hardware &amp; Networking , IT/Comp...</td>\n",
              "      <td>IT</td>\n",
              "      <td>0</td>\n",
              "      <td>158</td>\n",
              "      <td>79</td>\n",
              "      <td>2</td>\n",
              "      <td>1</td>\n",
              "      <td>0</td>\n",
              "      <td>0</td>\n",
              "      <td>0</td>\n",
              "      <td>1</td>\n",
              "      <td>1</td>\n",
              "      <td>0</td>\n",
              "      <td>1</td>\n",
              "    </tr>\n",
              "    <tr>\n",
              "      <th>1</th>\n",
              "      <td>PMO</td>\n",
              "      <td>Bengaluru / Bangalore</td>\n",
              "      <td>NaN</td>\n",
              "      <td>Templeton and Partners</td>\n",
              "      <td>Understand the Project Delivery Framework (PDF...</td>\n",
              "      <td>Project Finance</td>\n",
              "      <td>Empty</td>\n",
              "      <td>0</td>\n",
              "      <td>0</td>\n",
              "      <td>1</td>\n",
              "      <td>Part time</td>\n",
              "      <td>Masters</td>\n",
              "      <td>Mid-Senior level</td>\n",
              "      <td>IT / Computers - Software</td>\n",
              "      <td>Empty</td>\n",
              "      <td>0</td>\n",
              "      <td>3</td>\n",
              "      <td>177</td>\n",
              "      <td>2</td>\n",
              "      <td>1</td>\n",
              "      <td>0</td>\n",
              "      <td>0</td>\n",
              "      <td>0</td>\n",
              "      <td>1</td>\n",
              "      <td>0</td>\n",
              "      <td>1</td>\n",
              "      <td>1</td>\n",
              "    </tr>\n",
              "    <tr>\n",
              "      <th>2</th>\n",
              "      <td>Chat Support</td>\n",
              "      <td>Chandigarh</td>\n",
              "      <td>240000-280000</td>\n",
              "      <td>Tech Mahindra is part of the US $15.4 billion ...</td>\n",
              "      <td>Process:- English process (Chat Process)\\nNote...</td>\n",
              "      <td>Eligibility Criteria:-\\nMandatory: Excellent c...</td>\n",
              "      <td>Empty</td>\n",
              "      <td>0</td>\n",
              "      <td>1</td>\n",
              "      <td>1</td>\n",
              "      <td>Full time</td>\n",
              "      <td>Bachelors</td>\n",
              "      <td>Associate</td>\n",
              "      <td>ITES/BPO</td>\n",
              "      <td>Customer Service/Call Centre/BPO</td>\n",
              "      <td>0</td>\n",
              "      <td>281</td>\n",
              "      <td>86</td>\n",
              "      <td>50</td>\n",
              "      <td>1</td>\n",
              "      <td>0</td>\n",
              "      <td>0</td>\n",
              "      <td>0</td>\n",
              "      <td>1</td>\n",
              "      <td>1</td>\n",
              "      <td>0</td>\n",
              "      <td>0</td>\n",
              "    </tr>\n",
              "    <tr>\n",
              "      <th>3</th>\n",
              "      <td>Angular Engineer</td>\n",
              "      <td>Remote</td>\n",
              "      <td>NaN</td>\n",
              "      <td>theuniversal.in</td>\n",
              "      <td>Responsibilities :1. Work closely with the tea...</td>\n",
              "      <td>Technical skills required :1. Angular 10 and a...</td>\n",
              "      <td>Empty</td>\n",
              "      <td>1</td>\n",
              "      <td>0</td>\n",
              "      <td>0</td>\n",
              "      <td>Full time</td>\n",
              "      <td>Bachelors</td>\n",
              "      <td>Associate</td>\n",
              "      <td>IT/Computers - Software</td>\n",
              "      <td>IT</td>\n",
              "      <td>1</td>\n",
              "      <td>1</td>\n",
              "      <td>38</td>\n",
              "      <td>36</td>\n",
              "      <td>1</td>\n",
              "      <td>0</td>\n",
              "      <td>0</td>\n",
              "      <td>0</td>\n",
              "      <td>1</td>\n",
              "      <td>1</td>\n",
              "      <td>1</td>\n",
              "      <td>0</td>\n",
              "    </tr>\n",
              "    <tr>\n",
              "      <th>4</th>\n",
              "      <td>Work From Home -Technical Support- Work From H...</td>\n",
              "      <td>Remote</td>\n",
              "      <td>220000-409999</td>\n",
              "      <td>Empty</td>\n",
              "      <td>Job Description:Voice support to the customer....</td>\n",
              "      <td>Empty</td>\n",
              "      <td>Empty</td>\n",
              "      <td>1</td>\n",
              "      <td>0</td>\n",
              "      <td>0</td>\n",
              "      <td>Part time</td>\n",
              "      <td>Bachelors</td>\n",
              "      <td>Associate</td>\n",
              "      <td>Telecom</td>\n",
              "      <td>Customer Service/Call Centre/BPO</td>\n",
              "      <td>1</td>\n",
              "      <td>1</td>\n",
              "      <td>58</td>\n",
              "      <td>1</td>\n",
              "      <td>1</td>\n",
              "      <td>1</td>\n",
              "      <td>0</td>\n",
              "      <td>1</td>\n",
              "      <td>1</td>\n",
              "      <td>1</td>\n",
              "      <td>1</td>\n",
              "      <td>1</td>\n",
              "    </tr>\n",
              "  </tbody>\n",
              "</table>\n",
              "</div>\n",
              "      <button class=\"colab-df-convert\" onclick=\"convertToInteractive('df-fad73aed-0bf8-406a-ad4e-b23651396f1d')\"\n",
              "              title=\"Convert this dataframe to an interactive table.\"\n",
              "              style=\"display:none;\">\n",
              "        \n",
              "  <svg xmlns=\"http://www.w3.org/2000/svg\" height=\"24px\"viewBox=\"0 0 24 24\"\n",
              "       width=\"24px\">\n",
              "    <path d=\"M0 0h24v24H0V0z\" fill=\"none\"/>\n",
              "    <path d=\"M18.56 5.44l.94 2.06.94-2.06 2.06-.94-2.06-.94-.94-2.06-.94 2.06-2.06.94zm-11 1L8.5 8.5l.94-2.06 2.06-.94-2.06-.94L8.5 2.5l-.94 2.06-2.06.94zm10 10l.94 2.06.94-2.06 2.06-.94-2.06-.94-.94-2.06-.94 2.06-2.06.94z\"/><path d=\"M17.41 7.96l-1.37-1.37c-.4-.4-.92-.59-1.43-.59-.52 0-1.04.2-1.43.59L10.3 9.45l-7.72 7.72c-.78.78-.78 2.05 0 2.83L4 21.41c.39.39.9.59 1.41.59.51 0 1.02-.2 1.41-.59l7.78-7.78 2.81-2.81c.8-.78.8-2.07 0-2.86zM5.41 20L4 18.59l7.72-7.72 1.47 1.35L5.41 20z\"/>\n",
              "  </svg>\n",
              "      </button>\n",
              "      \n",
              "  <style>\n",
              "    .colab-df-container {\n",
              "      display:flex;\n",
              "      flex-wrap:wrap;\n",
              "      gap: 12px;\n",
              "    }\n",
              "\n",
              "    .colab-df-convert {\n",
              "      background-color: #E8F0FE;\n",
              "      border: none;\n",
              "      border-radius: 50%;\n",
              "      cursor: pointer;\n",
              "      display: none;\n",
              "      fill: #1967D2;\n",
              "      height: 32px;\n",
              "      padding: 0 0 0 0;\n",
              "      width: 32px;\n",
              "    }\n",
              "\n",
              "    .colab-df-convert:hover {\n",
              "      background-color: #E2EBFA;\n",
              "      box-shadow: 0px 1px 2px rgba(60, 64, 67, 0.3), 0px 1px 3px 1px rgba(60, 64, 67, 0.15);\n",
              "      fill: #174EA6;\n",
              "    }\n",
              "\n",
              "    [theme=dark] .colab-df-convert {\n",
              "      background-color: #3B4455;\n",
              "      fill: #D2E3FC;\n",
              "    }\n",
              "\n",
              "    [theme=dark] .colab-df-convert:hover {\n",
              "      background-color: #434B5C;\n",
              "      box-shadow: 0px 1px 3px 1px rgba(0, 0, 0, 0.15);\n",
              "      filter: drop-shadow(0px 1px 2px rgba(0, 0, 0, 0.3));\n",
              "      fill: #FFFFFF;\n",
              "    }\n",
              "  </style>\n",
              "\n",
              "      <script>\n",
              "        const buttonEl =\n",
              "          document.querySelector('#df-fad73aed-0bf8-406a-ad4e-b23651396f1d button.colab-df-convert');\n",
              "        buttonEl.style.display =\n",
              "          google.colab.kernel.accessAllowed ? 'block' : 'none';\n",
              "\n",
              "        async function convertToInteractive(key) {\n",
              "          const element = document.querySelector('#df-fad73aed-0bf8-406a-ad4e-b23651396f1d');\n",
              "          const dataTable =\n",
              "            await google.colab.kernel.invokeFunction('convertToInteractive',\n",
              "                                                     [key], {});\n",
              "          if (!dataTable) return;\n",
              "\n",
              "          const docLinkHtml = 'Like what you see? Visit the ' +\n",
              "            '<a target=\"_blank\" href=https://colab.research.google.com/notebooks/data_table.ipynb>data table notebook</a>'\n",
              "            + ' to learn more about interactive tables.';\n",
              "          element.innerHTML = '';\n",
              "          dataTable['output_type'] = 'display_data';\n",
              "          await google.colab.output.renderOutput(dataTable, element);\n",
              "          const docLink = document.createElement('div');\n",
              "          docLink.innerHTML = docLinkHtml;\n",
              "          element.appendChild(docLink);\n",
              "        }\n",
              "      </script>\n",
              "    </div>\n",
              "  </div>\n",
              "  "
            ]
          },
          "metadata": {},
          "execution_count": 221
        }
      ]
    },
    {
      "cell_type": "code",
      "source": [
        ""
      ],
      "metadata": {
        "id": "mD0vxZ-7rRZ3"
      },
      "execution_count": 89,
      "outputs": []
    },
    {
      "cell_type": "markdown",
      "source": [
        "#Create new feature has_special_attributes"
      ],
      "metadata": {
        "id": "xTALl0Ptlr6e"
      }
    },
    {
      "cell_type": "code",
      "source": [
        "special_attr_list = []\n",
        "\n",
        "for i in range(len(jobdf['required_education'])):\n",
        "  a = jobdf['required_education'][i]\n",
        "  b = jobdf['required_experience'][i]\n",
        "  c = jobdf['function'][i]\n",
        "\n",
        "  if a == 'Empty' and b == 'Empty' and c == 'Empty':\n",
        "    special_attr_list.append(1)\n",
        "  else:\n",
        "    special_attr_list.append(0)\n",
        "  \n"
      ],
      "metadata": {
        "id": "04NBUyDRfVuV"
      },
      "execution_count": 222,
      "outputs": []
    },
    {
      "cell_type": "code",
      "source": [
        "jobdf['has_spec_attr'] = special_attr_list"
      ],
      "metadata": {
        "id": "MD5RqEpcno24"
      },
      "execution_count": 223,
      "outputs": []
    },
    {
      "cell_type": "code",
      "source": [
        "jobdf.head()"
      ],
      "metadata": {
        "id": "0C87yTsvuhms",
        "colab": {
          "base_uri": "https://localhost:8080/",
          "height": 565
        },
        "outputId": "1619e547-bf74-48ea-b1a6-c77702188f40"
      },
      "execution_count": 224,
      "outputs": [
        {
          "output_type": "execute_result",
          "data": {
            "text/plain": [
              "                                               title               location  \\\n",
              "0                                        QA Engineer  Bengaluru / Bangalore   \n",
              "1                                                PMO  Bengaluru / Bangalore   \n",
              "2                                       Chat Support             Chandigarh   \n",
              "3                                   Angular Engineer                 Remote   \n",
              "4  Work From Home -Technical Support- Work From H...                 Remote   \n",
              "\n",
              "    salary_range                                    company_profile  \\\n",
              "0            NaN  Quess IT Staffing. Founded in 1997 as an entre...   \n",
              "1            NaN                             Templeton and Partners   \n",
              "2  240000-280000  Tech Mahindra is part of the US $15.4 billion ...   \n",
              "3            NaN                                    theuniversal.in   \n",
              "4  220000-409999                                              Empty   \n",
              "\n",
              "                                         description  \\\n",
              "0  End to End Functional testing of virtual educa...   \n",
              "1  Understand the Project Delivery Framework (PDF...   \n",
              "2  Process:- English process (Chat Process)\\nNote...   \n",
              "3  Responsibilities :1. Work closely with the tea...   \n",
              "4  Job Description:Voice support to the customer....   \n",
              "\n",
              "                                        requirements benefits  telecommuting  \\\n",
              "0                                       Api Testing     Empty              0   \n",
              "1                                    Project Finance    Empty              0   \n",
              "2  Eligibility Criteria:-\\nMandatory: Excellent c...    Empty              0   \n",
              "3  Technical skills required :1. Angular 10 and a...    Empty              1   \n",
              "4                                              Empty    Empty              1   \n",
              "\n",
              "   has_company_logo  has_questions employment_type required_education  \\\n",
              "0                 1              1       Full time            Masters   \n",
              "1                 0              1       Part time            Masters   \n",
              "2                 1              1       Full time          Bachelors   \n",
              "3                 0              0       Full time         Bachelors    \n",
              "4                 0              0       Part time          Bachelors   \n",
              "\n",
              "  required_experience                                           industry  \\\n",
              "0    Mid-Senior level  IT/Computers - Hardware & Networking , IT/Comp...   \n",
              "1    Mid-Senior level                          IT / Computers - Software   \n",
              "2           Associate                                           ITES/BPO   \n",
              "3           Associate                            IT/Computers - Software   \n",
              "4           Associate                                            Telecom   \n",
              "\n",
              "                           function  fraudulent  compprof_len  desc_len  \\\n",
              "0                                IT           0           158        79   \n",
              "1                             Empty           0             3       177   \n",
              "2  Customer Service/Call Centre/BPO           0           281        86   \n",
              "3                                IT           1             1        38   \n",
              "4  Customer Service/Call Centre/BPO           1             1        58   \n",
              "\n",
              "   req_len  benefits_len  empty_compprof  empty_desc  empty_req  \\\n",
              "0        2             1               0           0          0   \n",
              "1        2             1               0           0          0   \n",
              "2       50             1               0           0          0   \n",
              "3       36             1               0           0          0   \n",
              "4        1             1               1           0          1   \n",
              "\n",
              "   empty_benefits  has_short_desc  has_short_compprof  has_short_req  \\\n",
              "0               1               1                   0              1   \n",
              "1               1               0                   1              1   \n",
              "2               1               1                   0              0   \n",
              "3               1               1                   1              0   \n",
              "4               1               1                   1              1   \n",
              "\n",
              "   has_spec_attr  \n",
              "0              0  \n",
              "1              0  \n",
              "2              0  \n",
              "3              0  \n",
              "4              0  "
            ],
            "text/html": [
              "\n",
              "  <div id=\"df-e34c4073-ca49-426b-8cd6-db172326e861\">\n",
              "    <div class=\"colab-df-container\">\n",
              "      <div>\n",
              "<style scoped>\n",
              "    .dataframe tbody tr th:only-of-type {\n",
              "        vertical-align: middle;\n",
              "    }\n",
              "\n",
              "    .dataframe tbody tr th {\n",
              "        vertical-align: top;\n",
              "    }\n",
              "\n",
              "    .dataframe thead th {\n",
              "        text-align: right;\n",
              "    }\n",
              "</style>\n",
              "<table border=\"1\" class=\"dataframe\">\n",
              "  <thead>\n",
              "    <tr style=\"text-align: right;\">\n",
              "      <th></th>\n",
              "      <th>title</th>\n",
              "      <th>location</th>\n",
              "      <th>salary_range</th>\n",
              "      <th>company_profile</th>\n",
              "      <th>description</th>\n",
              "      <th>requirements</th>\n",
              "      <th>benefits</th>\n",
              "      <th>telecommuting</th>\n",
              "      <th>has_company_logo</th>\n",
              "      <th>has_questions</th>\n",
              "      <th>employment_type</th>\n",
              "      <th>required_education</th>\n",
              "      <th>required_experience</th>\n",
              "      <th>industry</th>\n",
              "      <th>function</th>\n",
              "      <th>fraudulent</th>\n",
              "      <th>compprof_len</th>\n",
              "      <th>desc_len</th>\n",
              "      <th>req_len</th>\n",
              "      <th>benefits_len</th>\n",
              "      <th>empty_compprof</th>\n",
              "      <th>empty_desc</th>\n",
              "      <th>empty_req</th>\n",
              "      <th>empty_benefits</th>\n",
              "      <th>has_short_desc</th>\n",
              "      <th>has_short_compprof</th>\n",
              "      <th>has_short_req</th>\n",
              "      <th>has_spec_attr</th>\n",
              "    </tr>\n",
              "  </thead>\n",
              "  <tbody>\n",
              "    <tr>\n",
              "      <th>0</th>\n",
              "      <td>QA Engineer</td>\n",
              "      <td>Bengaluru / Bangalore</td>\n",
              "      <td>NaN</td>\n",
              "      <td>Quess IT Staffing. Founded in 1997 as an entre...</td>\n",
              "      <td>End to End Functional testing of virtual educa...</td>\n",
              "      <td>Api Testing</td>\n",
              "      <td>Empty</td>\n",
              "      <td>0</td>\n",
              "      <td>1</td>\n",
              "      <td>1</td>\n",
              "      <td>Full time</td>\n",
              "      <td>Masters</td>\n",
              "      <td>Mid-Senior level</td>\n",
              "      <td>IT/Computers - Hardware &amp; Networking , IT/Comp...</td>\n",
              "      <td>IT</td>\n",
              "      <td>0</td>\n",
              "      <td>158</td>\n",
              "      <td>79</td>\n",
              "      <td>2</td>\n",
              "      <td>1</td>\n",
              "      <td>0</td>\n",
              "      <td>0</td>\n",
              "      <td>0</td>\n",
              "      <td>1</td>\n",
              "      <td>1</td>\n",
              "      <td>0</td>\n",
              "      <td>1</td>\n",
              "      <td>0</td>\n",
              "    </tr>\n",
              "    <tr>\n",
              "      <th>1</th>\n",
              "      <td>PMO</td>\n",
              "      <td>Bengaluru / Bangalore</td>\n",
              "      <td>NaN</td>\n",
              "      <td>Templeton and Partners</td>\n",
              "      <td>Understand the Project Delivery Framework (PDF...</td>\n",
              "      <td>Project Finance</td>\n",
              "      <td>Empty</td>\n",
              "      <td>0</td>\n",
              "      <td>0</td>\n",
              "      <td>1</td>\n",
              "      <td>Part time</td>\n",
              "      <td>Masters</td>\n",
              "      <td>Mid-Senior level</td>\n",
              "      <td>IT / Computers - Software</td>\n",
              "      <td>Empty</td>\n",
              "      <td>0</td>\n",
              "      <td>3</td>\n",
              "      <td>177</td>\n",
              "      <td>2</td>\n",
              "      <td>1</td>\n",
              "      <td>0</td>\n",
              "      <td>0</td>\n",
              "      <td>0</td>\n",
              "      <td>1</td>\n",
              "      <td>0</td>\n",
              "      <td>1</td>\n",
              "      <td>1</td>\n",
              "      <td>0</td>\n",
              "    </tr>\n",
              "    <tr>\n",
              "      <th>2</th>\n",
              "      <td>Chat Support</td>\n",
              "      <td>Chandigarh</td>\n",
              "      <td>240000-280000</td>\n",
              "      <td>Tech Mahindra is part of the US $15.4 billion ...</td>\n",
              "      <td>Process:- English process (Chat Process)\\nNote...</td>\n",
              "      <td>Eligibility Criteria:-\\nMandatory: Excellent c...</td>\n",
              "      <td>Empty</td>\n",
              "      <td>0</td>\n",
              "      <td>1</td>\n",
              "      <td>1</td>\n",
              "      <td>Full time</td>\n",
              "      <td>Bachelors</td>\n",
              "      <td>Associate</td>\n",
              "      <td>ITES/BPO</td>\n",
              "      <td>Customer Service/Call Centre/BPO</td>\n",
              "      <td>0</td>\n",
              "      <td>281</td>\n",
              "      <td>86</td>\n",
              "      <td>50</td>\n",
              "      <td>1</td>\n",
              "      <td>0</td>\n",
              "      <td>0</td>\n",
              "      <td>0</td>\n",
              "      <td>1</td>\n",
              "      <td>1</td>\n",
              "      <td>0</td>\n",
              "      <td>0</td>\n",
              "      <td>0</td>\n",
              "    </tr>\n",
              "    <tr>\n",
              "      <th>3</th>\n",
              "      <td>Angular Engineer</td>\n",
              "      <td>Remote</td>\n",
              "      <td>NaN</td>\n",
              "      <td>theuniversal.in</td>\n",
              "      <td>Responsibilities :1. Work closely with the tea...</td>\n",
              "      <td>Technical skills required :1. Angular 10 and a...</td>\n",
              "      <td>Empty</td>\n",
              "      <td>1</td>\n",
              "      <td>0</td>\n",
              "      <td>0</td>\n",
              "      <td>Full time</td>\n",
              "      <td>Bachelors</td>\n",
              "      <td>Associate</td>\n",
              "      <td>IT/Computers - Software</td>\n",
              "      <td>IT</td>\n",
              "      <td>1</td>\n",
              "      <td>1</td>\n",
              "      <td>38</td>\n",
              "      <td>36</td>\n",
              "      <td>1</td>\n",
              "      <td>0</td>\n",
              "      <td>0</td>\n",
              "      <td>0</td>\n",
              "      <td>1</td>\n",
              "      <td>1</td>\n",
              "      <td>1</td>\n",
              "      <td>0</td>\n",
              "      <td>0</td>\n",
              "    </tr>\n",
              "    <tr>\n",
              "      <th>4</th>\n",
              "      <td>Work From Home -Technical Support- Work From H...</td>\n",
              "      <td>Remote</td>\n",
              "      <td>220000-409999</td>\n",
              "      <td>Empty</td>\n",
              "      <td>Job Description:Voice support to the customer....</td>\n",
              "      <td>Empty</td>\n",
              "      <td>Empty</td>\n",
              "      <td>1</td>\n",
              "      <td>0</td>\n",
              "      <td>0</td>\n",
              "      <td>Part time</td>\n",
              "      <td>Bachelors</td>\n",
              "      <td>Associate</td>\n",
              "      <td>Telecom</td>\n",
              "      <td>Customer Service/Call Centre/BPO</td>\n",
              "      <td>1</td>\n",
              "      <td>1</td>\n",
              "      <td>58</td>\n",
              "      <td>1</td>\n",
              "      <td>1</td>\n",
              "      <td>1</td>\n",
              "      <td>0</td>\n",
              "      <td>1</td>\n",
              "      <td>1</td>\n",
              "      <td>1</td>\n",
              "      <td>1</td>\n",
              "      <td>1</td>\n",
              "      <td>0</td>\n",
              "    </tr>\n",
              "  </tbody>\n",
              "</table>\n",
              "</div>\n",
              "      <button class=\"colab-df-convert\" onclick=\"convertToInteractive('df-e34c4073-ca49-426b-8cd6-db172326e861')\"\n",
              "              title=\"Convert this dataframe to an interactive table.\"\n",
              "              style=\"display:none;\">\n",
              "        \n",
              "  <svg xmlns=\"http://www.w3.org/2000/svg\" height=\"24px\"viewBox=\"0 0 24 24\"\n",
              "       width=\"24px\">\n",
              "    <path d=\"M0 0h24v24H0V0z\" fill=\"none\"/>\n",
              "    <path d=\"M18.56 5.44l.94 2.06.94-2.06 2.06-.94-2.06-.94-.94-2.06-.94 2.06-2.06.94zm-11 1L8.5 8.5l.94-2.06 2.06-.94-2.06-.94L8.5 2.5l-.94 2.06-2.06.94zm10 10l.94 2.06.94-2.06 2.06-.94-2.06-.94-.94-2.06-.94 2.06-2.06.94z\"/><path d=\"M17.41 7.96l-1.37-1.37c-.4-.4-.92-.59-1.43-.59-.52 0-1.04.2-1.43.59L10.3 9.45l-7.72 7.72c-.78.78-.78 2.05 0 2.83L4 21.41c.39.39.9.59 1.41.59.51 0 1.02-.2 1.41-.59l7.78-7.78 2.81-2.81c.8-.78.8-2.07 0-2.86zM5.41 20L4 18.59l7.72-7.72 1.47 1.35L5.41 20z\"/>\n",
              "  </svg>\n",
              "      </button>\n",
              "      \n",
              "  <style>\n",
              "    .colab-df-container {\n",
              "      display:flex;\n",
              "      flex-wrap:wrap;\n",
              "      gap: 12px;\n",
              "    }\n",
              "\n",
              "    .colab-df-convert {\n",
              "      background-color: #E8F0FE;\n",
              "      border: none;\n",
              "      border-radius: 50%;\n",
              "      cursor: pointer;\n",
              "      display: none;\n",
              "      fill: #1967D2;\n",
              "      height: 32px;\n",
              "      padding: 0 0 0 0;\n",
              "      width: 32px;\n",
              "    }\n",
              "\n",
              "    .colab-df-convert:hover {\n",
              "      background-color: #E2EBFA;\n",
              "      box-shadow: 0px 1px 2px rgba(60, 64, 67, 0.3), 0px 1px 3px 1px rgba(60, 64, 67, 0.15);\n",
              "      fill: #174EA6;\n",
              "    }\n",
              "\n",
              "    [theme=dark] .colab-df-convert {\n",
              "      background-color: #3B4455;\n",
              "      fill: #D2E3FC;\n",
              "    }\n",
              "\n",
              "    [theme=dark] .colab-df-convert:hover {\n",
              "      background-color: #434B5C;\n",
              "      box-shadow: 0px 1px 3px 1px rgba(0, 0, 0, 0.15);\n",
              "      filter: drop-shadow(0px 1px 2px rgba(0, 0, 0, 0.3));\n",
              "      fill: #FFFFFF;\n",
              "    }\n",
              "  </style>\n",
              "\n",
              "      <script>\n",
              "        const buttonEl =\n",
              "          document.querySelector('#df-e34c4073-ca49-426b-8cd6-db172326e861 button.colab-df-convert');\n",
              "        buttonEl.style.display =\n",
              "          google.colab.kernel.accessAllowed ? 'block' : 'none';\n",
              "\n",
              "        async function convertToInteractive(key) {\n",
              "          const element = document.querySelector('#df-e34c4073-ca49-426b-8cd6-db172326e861');\n",
              "          const dataTable =\n",
              "            await google.colab.kernel.invokeFunction('convertToInteractive',\n",
              "                                                     [key], {});\n",
              "          if (!dataTable) return;\n",
              "\n",
              "          const docLinkHtml = 'Like what you see? Visit the ' +\n",
              "            '<a target=\"_blank\" href=https://colab.research.google.com/notebooks/data_table.ipynb>data table notebook</a>'\n",
              "            + ' to learn more about interactive tables.';\n",
              "          element.innerHTML = '';\n",
              "          dataTable['output_type'] = 'display_data';\n",
              "          await google.colab.output.renderOutput(dataTable, element);\n",
              "          const docLink = document.createElement('div');\n",
              "          docLink.innerHTML = docLinkHtml;\n",
              "          element.appendChild(docLink);\n",
              "        }\n",
              "      </script>\n",
              "    </div>\n",
              "  </div>\n",
              "  "
            ]
          },
          "metadata": {},
          "execution_count": 224
        }
      ]
    },
    {
      "cell_type": "code",
      "source": [
        ""
      ],
      "metadata": {
        "id": "QoICVIq2sUA8"
      },
      "execution_count": 94,
      "outputs": []
    },
    {
      "cell_type": "markdown",
      "source": [
        "Correcting employment type categories."
      ],
      "metadata": {
        "id": "eCfdx3U-tHXP"
      }
    },
    {
      "cell_type": "code",
      "source": [
        "jobdf['employment_type'].unique()"
      ],
      "metadata": {
        "colab": {
          "base_uri": "https://localhost:8080/"
        },
        "id": "V1UfBQBZr20s",
        "outputId": "82a39f06-0384-46a2-d522-dab88e5c41c0"
      },
      "execution_count": 225,
      "outputs": [
        {
          "output_type": "execute_result",
          "data": {
            "text/plain": [
              "array(['Full time', 'Part time', 'Full Time', 'Part Time', 'Full-time',\n",
              "       'Empty', 'Contract', 'Part-time', 'Other', 'Temporary'],\n",
              "      dtype=object)"
            ]
          },
          "metadata": {},
          "execution_count": 225
        }
      ]
    },
    {
      "cell_type": "code",
      "source": [
        "jobdf['employment_type'].replace(['Full Time', 'Full-time', 'Full Time', 'Full time'], 'Full Time', inplace=True)\n",
        "jobdf['employment_type'].replace(['Part-time', 'Part time', 'Part Time'], 'Part Time', inplace=True)"
      ],
      "metadata": {
        "id": "E32nZWZ5sX6T"
      },
      "execution_count": 226,
      "outputs": []
    },
    {
      "cell_type": "code",
      "source": [
        "jobdf['employment_type'].unique()"
      ],
      "metadata": {
        "colab": {
          "base_uri": "https://localhost:8080/"
        },
        "id": "zbHwRwvRsq2z",
        "outputId": "229bc647-e24f-48d8-b363-65347a612ccc"
      },
      "execution_count": 227,
      "outputs": [
        {
          "output_type": "execute_result",
          "data": {
            "text/plain": [
              "array(['Full Time', 'Part Time', 'Empty', 'Contract', 'Other',\n",
              "       'Temporary'], dtype=object)"
            ]
          },
          "metadata": {},
          "execution_count": 227
        }
      ]
    },
    {
      "cell_type": "markdown",
      "source": [
        "Correcting required_education categories."
      ],
      "metadata": {
        "id": "3LAoOKLLtQij"
      }
    },
    {
      "cell_type": "code",
      "source": [
        "jobdf['required_education'].unique()"
      ],
      "metadata": {
        "colab": {
          "base_uri": "https://localhost:8080/"
        },
        "id": "KoSyHdpZs-_F",
        "outputId": "a640f246-a8f9-41eb-bc13-07165ea8f5af"
      },
      "execution_count": 228,
      "outputs": [
        {
          "output_type": "execute_result",
          "data": {
            "text/plain": [
              "array(['Masters', 'Bachelors', 'Bachelors\\xa0', 'Not specified', 'SSC',\n",
              "       'HSC', 'Bachelors/ Masters', 'Bachelors/Masters',\n",
              "       'HSC/Bachelors/Masters', 'HSC/Bachelors', 'Civil Engineer',\n",
              "       'Electrical Engineer', 'MBA', 'Empty', 'Diploma',\n",
              "       \"Bachelor's Degree\", \"Master's Degree\", 'Unspecified',\n",
              "       'Certification', 'Professional'], dtype=object)"
            ]
          },
          "metadata": {},
          "execution_count": 228
        }
      ]
    },
    {
      "cell_type": "code",
      "source": [
        "jobdf['required_education'].replace(['Bachelors', 'Bachelors\\xa0', 'Bachelor\\'s Degree'], 'Bachelor\\'s Degree', inplace=True)\n",
        "jobdf['required_education'].replace(['Master\\'s Degree', 'Masters'], 'Master\\'s Degree', inplace=True)\n",
        "jobdf['required_education'].replace(['Civil Engineer', 'Electrical Engineer'], 'Engineer', inplace=True)\n",
        "jobdf['required_education'].replace(['Not specified'], 'Empty', inplace=True)\n",
        "jobdf['required_education'].replace(['Bachelors/ Masters'], 'Bachelors/Masters', inplace=True)"
      ],
      "metadata": {
        "id": "WU2XHflBtUXT"
      },
      "execution_count": 229,
      "outputs": []
    },
    {
      "cell_type": "code",
      "source": [
        "jobdf['required_education'].unique()"
      ],
      "metadata": {
        "colab": {
          "base_uri": "https://localhost:8080/"
        },
        "id": "_CY-QJO_utwl",
        "outputId": "c44dadbc-42c4-422f-c35d-99e12261ea1f"
      },
      "execution_count": 230,
      "outputs": [
        {
          "output_type": "execute_result",
          "data": {
            "text/plain": [
              "array([\"Master's Degree\", \"Bachelor's Degree\", 'Empty', 'SSC', 'HSC',\n",
              "       'Bachelors/Masters', 'HSC/Bachelors/Masters', 'HSC/Bachelors',\n",
              "       'Engineer', 'MBA', 'Diploma', 'Unspecified', 'Certification',\n",
              "       'Professional'], dtype=object)"
            ]
          },
          "metadata": {},
          "execution_count": 230
        }
      ]
    },
    {
      "cell_type": "code",
      "source": [
        "jobdf['required_experience'].unique()"
      ],
      "metadata": {
        "colab": {
          "base_uri": "https://localhost:8080/"
        },
        "id": "2giIaKD5va8T",
        "outputId": "c572a70e-9058-4f7e-b84d-b9903306d63a"
      },
      "execution_count": 231,
      "outputs": [
        {
          "output_type": "execute_result",
          "data": {
            "text/plain": [
              "array(['Mid-Senior level', 'Associate', 'Senior level', 'Fresher',\n",
              "       'Entry level', 'Empty', 'Not Applicable', 'Internship', 'Director',\n",
              "       'Executive'], dtype=object)"
            ]
          },
          "metadata": {},
          "execution_count": 231
        }
      ]
    },
    {
      "cell_type": "code",
      "source": [
        "#jobdf['function'].unique()"
      ],
      "metadata": {
        "id": "QzQzP198viHT"
      },
      "execution_count": null,
      "outputs": []
    },
    {
      "cell_type": "code",
      "source": [
        ""
      ],
      "metadata": {
        "id": "WuFd7BGswUIS"
      },
      "execution_count": 102,
      "outputs": []
    },
    {
      "cell_type": "markdown",
      "source": [
        "Average of Length of Textual columns for Fraud and NonFraud job adverts"
      ],
      "metadata": {
        "id": "b34hNL79wZ3R"
      }
    },
    {
      "cell_type": "code",
      "source": [
        "from numpy.lib.function_base import average\n",
        "print(average(compprof_fraud))\n",
        "print(average(compprof_nonfraud))\n",
        "\n",
        "print(average(desc_fraud))\n",
        "print(average(desc_nonfraud))\n",
        "\n",
        "print(average(benefits_fraud))\n",
        "print(average(benefits_nonfraud))\n",
        "\n",
        "print(average(req_len_fraud))\n",
        "print(average(req_len_nonfraud)) \n",
        "\n"
      ],
      "metadata": {
        "colab": {
          "base_uri": "https://localhost:8080/"
        },
        "id": "BtZmV0x7t-D6",
        "outputId": "1c4301e4-b2ae-4f5d-d477-723154689dd3"
      },
      "execution_count": 232,
      "outputs": [
        {
          "output_type": "stream",
          "name": "stdout",
          "text": [
            "34.91111111111111\n",
            "116.86285714285714\n",
            "82.24444444444444\n",
            "136.49714285714285\n",
            "7.444444444444445\n",
            "33.10285714285714\n",
            "13.977777777777778\n",
            "82.59428571428572\n"
          ]
        }
      ]
    },
    {
      "cell_type": "code",
      "source": [
        "detectdf = jobdf.copy()"
      ],
      "metadata": {
        "id": "U1bDgA8W4rDp"
      },
      "execution_count": 233,
      "outputs": []
    },
    {
      "cell_type": "code",
      "source": [
        "detectdf.drop(['title','location','salary_range','company_profile','description','requirements','benefits','compprof_len','desc_len','benefits_len','req_len'],axis=1,inplace=True)"
      ],
      "metadata": {
        "id": "H1M4IJMNl3Rm"
      },
      "execution_count": 234,
      "outputs": []
    },
    {
      "cell_type": "code",
      "source": [
        "# detectdf.drop(['job_id'],axis=1,inplace=True)"
      ],
      "metadata": {
        "id": "CV7tep9sm4iJ"
      },
      "execution_count": 106,
      "outputs": []
    },
    {
      "cell_type": "code",
      "source": [
        "detectdf = detectdf[['telecommuting','has_company_logo','has_questions','employment_type','required_experience','required_education','industry','function','empty_compprof','empty_desc','empty_req','empty_benefits','has_short_desc','has_short_compprof', 'has_short_req', 'has_spec_attr','fraudulent']]"
      ],
      "metadata": {
        "id": "FLvF4nrSm0hc"
      },
      "execution_count": 235,
      "outputs": []
    },
    {
      "cell_type": "code",
      "source": [
        "detectdf = pd.get_dummies(detectdf, columns = ['employment_type','required_education','required_experience','industry','function'])\n",
        "detectdf.head()"
      ],
      "metadata": {
        "colab": {
          "base_uri": "https://localhost:8080/",
          "height": 340
        },
        "id": "KgYLv0nnreKN",
        "outputId": "a55c2259-f93b-41f8-fe73-56e2673a5da4"
      },
      "execution_count": 236,
      "outputs": [
        {
          "output_type": "execute_result",
          "data": {
            "text/plain": [
              "   telecommuting  has_company_logo  has_questions  empty_compprof  empty_desc  \\\n",
              "0              0                 1              1               0           0   \n",
              "1              0                 0              1               0           0   \n",
              "2              0                 1              1               0           0   \n",
              "3              1                 0              0               0           0   \n",
              "4              1                 0              0               1           0   \n",
              "\n",
              "   empty_req  empty_benefits  has_short_desc  has_short_compprof  \\\n",
              "0          0               1               1                   0   \n",
              "1          0               1               0                   1   \n",
              "2          0               1               1                   0   \n",
              "3          0               1               1                   1   \n",
              "4          1               1               1                   1   \n",
              "\n",
              "   has_short_req  has_spec_attr  fraudulent  employment_type_Contract  \\\n",
              "0              1              0           0                         0   \n",
              "1              1              0           0                         0   \n",
              "2              0              0           0                         0   \n",
              "3              0              0           1                         0   \n",
              "4              1              0           1                         0   \n",
              "\n",
              "   employment_type_Empty  employment_type_Full Time  employment_type_Other  \\\n",
              "0                      0                          1                      0   \n",
              "1                      0                          0                      0   \n",
              "2                      0                          1                      0   \n",
              "3                      0                          1                      0   \n",
              "4                      0                          0                      0   \n",
              "\n",
              "   employment_type_Part Time  employment_type_Temporary  \\\n",
              "0                          0                          0   \n",
              "1                          1                          0   \n",
              "2                          0                          0   \n",
              "3                          0                          0   \n",
              "4                          1                          0   \n",
              "\n",
              "   required_education_Bachelor's Degree  required_education_Bachelors/Masters  \\\n",
              "0                                     0                                     0   \n",
              "1                                     0                                     0   \n",
              "2                                     1                                     0   \n",
              "3                                     1                                     0   \n",
              "4                                     1                                     0   \n",
              "\n",
              "   required_education_Certification  required_education_Diploma  \\\n",
              "0                                 0                           0   \n",
              "1                                 0                           0   \n",
              "2                                 0                           0   \n",
              "3                                 0                           0   \n",
              "4                                 0                           0   \n",
              "\n",
              "   required_education_Empty  required_education_Engineer  \\\n",
              "0                         0                            0   \n",
              "1                         0                            0   \n",
              "2                         0                            0   \n",
              "3                         0                            0   \n",
              "4                         0                            0   \n",
              "\n",
              "   required_education_HSC  required_education_HSC/Bachelors  \\\n",
              "0                       0                                 0   \n",
              "1                       0                                 0   \n",
              "2                       0                                 0   \n",
              "3                       0                                 0   \n",
              "4                       0                                 0   \n",
              "\n",
              "   required_education_HSC/Bachelors/Masters  required_education_MBA  \\\n",
              "0                                         0                       0   \n",
              "1                                         0                       0   \n",
              "2                                         0                       0   \n",
              "3                                         0                       0   \n",
              "4                                         0                       0   \n",
              "\n",
              "   required_education_Master's Degree  required_education_Professional  \\\n",
              "0                                   1                                0   \n",
              "1                                   1                                0   \n",
              "2                                   0                                0   \n",
              "3                                   0                                0   \n",
              "4                                   0                                0   \n",
              "\n",
              "   required_education_SSC  required_education_Unspecified  \\\n",
              "0                       0                               0   \n",
              "1                       0                               0   \n",
              "2                       0                               0   \n",
              "3                       0                               0   \n",
              "4                       0                               0   \n",
              "\n",
              "   required_experience_Associate  required_experience_Director  \\\n",
              "0                              0                             0   \n",
              "1                              0                             0   \n",
              "2                              1                             0   \n",
              "3                              1                             0   \n",
              "4                              1                             0   \n",
              "\n",
              "   required_experience_Empty  required_experience_Entry level  \\\n",
              "0                          0                                0   \n",
              "1                          0                                0   \n",
              "2                          0                                0   \n",
              "3                          0                                0   \n",
              "4                          0                                0   \n",
              "\n",
              "   required_experience_Executive  required_experience_Fresher  \\\n",
              "0                              0                            0   \n",
              "1                              0                            0   \n",
              "2                              0                            0   \n",
              "3                              0                            0   \n",
              "4                              0                            0   \n",
              "\n",
              "   required_experience_Internship  required_experience_Mid-Senior level  \\\n",
              "0                               0                                     1   \n",
              "1                               0                                     1   \n",
              "2                               0                                     0   \n",
              "3                               0                                     0   \n",
              "4                               0                                     0   \n",
              "\n",
              "   required_experience_Not Applicable  required_experience_Senior level  \\\n",
              "0                                   0                                 0   \n",
              "1                                   0                                 0   \n",
              "2                                   0                                 0   \n",
              "3                                   0                                 0   \n",
              "4                                   0                                 0   \n",
              "\n",
              "   industry_\\nBio Technology & Life Sciences   \\\n",
              "0                                           0   \n",
              "1                                           0   \n",
              "2                                           0   \n",
              "3                                           0   \n",
              "4                                           0   \n",
              "\n",
              "   industry_Airlines / Aviation / Aerospace  \\\n",
              "0                                         0   \n",
              "1                                         0   \n",
              "2                                         0   \n",
              "3                                         0   \n",
              "4                                         0   \n",
              "\n",
              "   industry_Airlines/Aviation/Aerospace  industry_Animation  \\\n",
              "0                                     0                   0   \n",
              "1                                     0                   0   \n",
              "2                                     0                   0   \n",
              "3                                     0                   0   \n",
              "4                                     0                   0   \n",
              "\n",
              "   industry_Aviation / Airline  \\\n",
              "0                            0   \n",
              "1                            0   \n",
              "2                            0   \n",
              "3                            0   \n",
              "4                            0   \n",
              "\n",
              "   industry_Banking / Accounting / Financial Services  \\\n",
              "0                                                  0    \n",
              "1                                                  0    \n",
              "2                                                  0    \n",
              "3                                                  0    \n",
              "4                                                  0    \n",
              "\n",
              "   industry_Banking/Accounting/Financial Services  \\\n",
              "0                                               0   \n",
              "1                                               0   \n",
              "2                                               0   \n",
              "3                                               0   \n",
              "4                                               0   \n",
              "\n",
              "   industry_Computer Networking  industry_Computer Software  \\\n",
              "0                             0                           0   \n",
              "1                             0                           0   \n",
              "2                             0                           0   \n",
              "3                             0                           0   \n",
              "4                             0                           0   \n",
              "\n",
              "   industry_Construction & Engineering  \\\n",
              "0                                    0   \n",
              "1                                    0   \n",
              "2                                    0   \n",
              "3                                    0   \n",
              "4                                    0   \n",
              "\n",
              "   industry_Consulting / Advisory Services  industry_Education / Training  \\\n",
              "0                                        0                              0   \n",
              "1                                        0                              0   \n",
              "2                                        0                              0   \n",
              "3                                        0                              0   \n",
              "4                                        0                              0   \n",
              "\n",
              "   industry_Education Management  industry_Empty  \\\n",
              "0                              0               0   \n",
              "1                              0               0   \n",
              "2                              0               0   \n",
              "3                              0               0   \n",
              "4                              0               0   \n",
              "\n",
              "   industry_Engineering & Design  industry_Engineering / Construction  \\\n",
              "0                              0                                    0   \n",
              "1                              0                                    0   \n",
              "2                              0                                    0   \n",
              "3                              0                                    0   \n",
              "4                              0                                    0   \n",
              "\n",
              "   industry_Entertainment / Media / Publishing  \\\n",
              "0                                            0   \n",
              "1                                            0   \n",
              "2                                            0   \n",
              "3                                            0   \n",
              "4                                            0   \n",
              "\n",
              "   industry_Entertainment/Media/Publishing  industry_Graphic Design  \\\n",
              "0                                        0                        0   \n",
              "1                                        0                        0   \n",
              "2                                        0                        0   \n",
              "3                                        0                        0   \n",
              "4                                        0                        0   \n",
              "\n",
              "   industry_Hospital & Health Care  \\\n",
              "0                                0   \n",
              "1                                0   \n",
              "2                                0   \n",
              "3                                0   \n",
              "4                                0   \n",
              "\n",
              "   industry_Hospitals/Healthcare/Diagnostics   industry_IT  \\\n",
              "0                                           0            0   \n",
              "1                                           0            0   \n",
              "2                                           0            0   \n",
              "3                                           0            0   \n",
              "4                                           0            0   \n",
              "\n",
              "   industry_IT - Hardware / Networking  industry_IT - Hardware / Networking   \\\n",
              "0                                    0                                     0   \n",
              "1                                    0                                     0   \n",
              "2                                    0                                     0   \n",
              "3                                    0                                     0   \n",
              "4                                    0                                     0   \n",
              "\n",
              "   industry_IT - Software  industry_IT - Software   \\\n",
              "0                       0                        0   \n",
              "1                       0                        0   \n",
              "2                       0                        0   \n",
              "3                       0                        0   \n",
              "4                       0                        0   \n",
              "\n",
              "   industry_IT / Computers - Software  \\\n",
              "0                                   0   \n",
              "1                                   0   \n",
              "2                                   0   \n",
              "3                                   0   \n",
              "4                                   0   \n",
              "\n",
              "   industry_IT/Computers - Hardware & Networking , IT/Computers - Software  \\\n",
              "0                                                  1                         \n",
              "1                                                  0                         \n",
              "2                                                  0                         \n",
              "3                                                  0                         \n",
              "4                                                  0                         \n",
              "\n",
              "   industry_IT/Computers - Software  industry_IT/Computers - Software   \\\n",
              "0                                 0                                  0   \n",
              "1                                 0                                  0   \n",
              "2                                 0                                  0   \n",
              "3                                 1                                  0   \n",
              "4                                 0                                  0   \n",
              "\n",
              "   industry_IT/Computers - Software   industry_ITES/BPO  industry_ITES/BPO   \\\n",
              "0                                  0                  0                   0   \n",
              "1                                  0                  0                   0   \n",
              "2                                  0                  1                   0   \n",
              "3                                  0                  0                   0   \n",
              "4                                  0                  0                   0   \n",
              "\n",
              "   industry_IT / Computers - Software  industry_Information Services  \\\n",
              "0                                   0                              0   \n",
              "1                                   1                              0   \n",
              "2                                   0                              0   \n",
              "3                                   0                              0   \n",
              "4                                   0                              0   \n",
              "\n",
              "   industry_Information Technology and Services  industry_Internet  \\\n",
              "0                                             0                  0   \n",
              "1                                             0                  0   \n",
              "2                                             0                  0   \n",
              "3                                             0                  0   \n",
              "4                                             0                  0   \n",
              "\n",
              "   industry_Internet / E-commerce  industry_Internet/E-commerce  \\\n",
              "0                               0                             0   \n",
              "1                               0                             0   \n",
              "2                               0                             0   \n",
              "3                               0                             0   \n",
              "4                               0                             0   \n",
              "\n",
              "   industry_Internet/E-commerce   industry_Luxury Goods & Jewelry  \\\n",
              "0                              0                                0   \n",
              "1                              0                                0   \n",
              "2                              0                                0   \n",
              "3                              0                                0   \n",
              "4                              0                                0   \n",
              "\n",
              "   industry_Manufacturing  industry_Market Research  \\\n",
              "0                       0                         0   \n",
              "1                       0                         0   \n",
              "2                       0                         0   \n",
              "3                       0                         0   \n",
              "4                       0                         0   \n",
              "\n",
              "   industry_Nonprofit Organization Management  \\\n",
              "0                                           0   \n",
              "1                                           0   \n",
              "2                                           0   \n",
              "3                                           0   \n",
              "4                                           0   \n",
              "\n",
              "   industry_Oil & Gas / Petroleum   industry_Other  industry_Other   \\\n",
              "0                                0               0                0   \n",
              "1                                0               0                0   \n",
              "2                                0               0                0   \n",
              "3                                0               0                0   \n",
              "4                                0               0                0   \n",
              "\n",
              "   industry_Outsourcing/Offshoring  industry_Pharmaceuticals  \\\n",
              "0                                0                         0   \n",
              "1                                0                         0   \n",
              "2                                0                         0   \n",
              "3                                0                         0   \n",
              "4                                0                         0   \n",
              "\n",
              "   industry_Recruitment/Staffing/RPO   industry_Retail  \\\n",
              "0                                   0                0   \n",
              "1                                   0                0   \n",
              "2                                   0                0   \n",
              "3                                   0                0   \n",
              "4                                   0                0   \n",
              "\n",
              "   industry_Software Development  industry_T / Computers - Software  \\\n",
              "0                              0                                  0   \n",
              "1                              0                                  0   \n",
              "2                              0                                  0   \n",
              "3                              0                                  0   \n",
              "4                              0                                  0   \n",
              "\n",
              "   industry_Telecom  industry_Wellness/Fitness/Sports   \\\n",
              "0                 0                                  0   \n",
              "1                 0                                  0   \n",
              "2                 0                                  0   \n",
              "3                 0                                  0   \n",
              "4                 1                                  0   \n",
              "\n",
              "   industry_Writing and Editing  industry_ IT/Computers - Software  \\\n",
              "0                             0                                  0   \n",
              "1                             0                                  0   \n",
              "2                             0                                  0   \n",
              "3                             0                                  0   \n",
              "4                             0                                  0   \n",
              "\n",
              "   function_Accounting/Auditing  function_Admin / Secretarial / Front Office  \\\n",
              "0                             0                                            0   \n",
              "1                             0                                            0   \n",
              "2                             0                                            0   \n",
              "3                             0                                            0   \n",
              "4                             0                                            0   \n",
              "\n",
              "   function_Administrative  \\\n",
              "0                        0   \n",
              "1                        0   \n",
              "2                        0   \n",
              "3                        0   \n",
              "4                        0   \n",
              "\n",
              "   function_Airport / Airline Ground OperationsService / Installation / Repair  \\\n",
              "0                                                  0                             \n",
              "1                                                  0                             \n",
              "2                                                  0                             \n",
              "3                                                  0                             \n",
              "4                                                  0                             \n",
              "\n",
              "   function_Art/Creative  function_Banking  function_Consulting  \\\n",
              "0                      0                 0                    0   \n",
              "1                      0                 0                    0   \n",
              "2                      0                 0                    0   \n",
              "3                      0                 0                    0   \n",
              "4                      0                 0                    0   \n",
              "\n",
              "   function_Customer Service (Domestic)   \\\n",
              "0                                      0   \n",
              "1                                      0   \n",
              "2                                      0   \n",
              "3                                      0   \n",
              "4                                      0   \n",
              "\n",
              "   function_Customer Service/Call Centre/BPO  \\\n",
              "0                                          0   \n",
              "1                                          0   \n",
              "2                                          1   \n",
              "3                                          0   \n",
              "4                                          1   \n",
              "\n",
              "   function_Customer Service/Call Centre/BPO   function_Design  \\\n",
              "0                                           0                0   \n",
              "1                                           0                0   \n",
              "2                                           0                0   \n",
              "3                                           0                0   \n",
              "4                                           0                0   \n",
              "\n",
              "   function_Development  function_Digital Marketing  function_Education  \\\n",
              "0                     0                           0                   0   \n",
              "1                     0                           0                   0   \n",
              "2                     0                           0                   0   \n",
              "3                     0                           0                   0   \n",
              "4                     0                           0                   0   \n",
              "\n",
              "   function_Education / Teaching  function_Empty  function_Engineering  \\\n",
              "0                              0               0                     0   \n",
              "1                              0               1                     0   \n",
              "2                              0               0                     0   \n",
              "3                              0               0                     0   \n",
              "4                              0               0                     0   \n",
              "\n",
              "   function_Engineering - Electrical   function_Engineering - Mechanical  \\\n",
              "0                                   0                                  0   \n",
              "1                                   0                                  0   \n",
              "2                                   0                                  0   \n",
              "3                                   0                                  0   \n",
              "4                                   0                                  0   \n",
              "\n",
              "   function_Engineering Design / Construction  \\\n",
              "0                                           0   \n",
              "1                                           0   \n",
              "2                                           0   \n",
              "3                                           0   \n",
              "4                                           0   \n",
              "\n",
              "   function_Engineering Design / Construction Oil & Gas Engineering   \\\n",
              "0                                                  0                   \n",
              "1                                                  0                   \n",
              "2                                                  0                   \n",
              "3                                                  0                   \n",
              "4                                                  0                   \n",
              "\n",
              "   function_Finance & Accounts  function_General / Other Software  \\\n",
              "0                            0                                  0   \n",
              "1                            0                                  0   \n",
              "2                            0                                  0   \n",
              "3                            0                                  0   \n",
              "4                            0                                  0   \n",
              "\n",
              "   function_General / Other Software Network / System Administration   \\\n",
              "0                                                  0                    \n",
              "1                                                  0                    \n",
              "2                                                  0                    \n",
              "3                                                  0                    \n",
              "4                                                  0                    \n",
              "\n",
              "   function_Health Care  function_Health Care   function_Health Care Provider  \\\n",
              "0                     0                      0                              0   \n",
              "1                     0                      0                              0   \n",
              "2                     0                      0                              0   \n",
              "3                     0                      0                              0   \n",
              "4                     0                      0                              0   \n",
              "\n",
              "   function_Human Resources  function_Human Resources   function_IT  \\\n",
              "0                         0                          0            1   \n",
              "1                         0                          0            0   \n",
              "2                         0                          0            0   \n",
              "3                         0                          0            1   \n",
              "4                         0                          0            0   \n",
              "\n",
              "   function_IT   function_IT - Software  \\\n",
              "0             0                       0   \n",
              "1             0                       0   \n",
              "2             0                       0   \n",
              "3             0                       0   \n",
              "4             0                       0   \n",
              "\n",
              "   function_IT- Hardware/Telecom/Technical Staff/Support , IT/Software Development - Network Administration/Security  \\\n",
              "0                                                  0                                                                   \n",
              "1                                                  0                                                                   \n",
              "2                                                  0                                                                   \n",
              "3                                                  0                                                                   \n",
              "4                                                  0                                                                   \n",
              "\n",
              "   function_Information Technology  \\\n",
              "0                                0   \n",
              "1                                0   \n",
              "2                                0   \n",
              "3                                0   \n",
              "4                                0   \n",
              "\n",
              "   function_Journalism / Content Writing / Editing / Correspondent  \\\n",
              "0                                                  0                 \n",
              "1                                                  0                 \n",
              "2                                                  0                 \n",
              "3                                                  0                 \n",
              "4                                                  0                 \n",
              "\n",
              "   function_Marketing  function_Marketing & Communications  function_Other  \\\n",
              "0                   0                                    0               0   \n",
              "1                   0                                    0               0   \n",
              "2                   0                                    0               0   \n",
              "3                   0                                    0               0   \n",
              "4                   0                                    0               0   \n",
              "\n",
              "   function_Others  function_Quality Assurance  function_R&D / Product Design  \\\n",
              "0                0                           0                              0   \n",
              "1                0                           0                              0   \n",
              "2                0                           0                              0   \n",
              "3                0                           0                              0   \n",
              "4                0                           0                              0   \n",
              "\n",
              "   function_Research  function_Reservation and Ticketing  function_Sales  \\\n",
              "0                  0                                   0               0   \n",
              "1                  0                                   0               0   \n",
              "2                  0                                   0               0   \n",
              "3                  0                                   0               0   \n",
              "4                  0                                   0               0   \n",
              "\n",
              "   function_Sales - Corporate  function_Sales / BD Pre-Sales   \\\n",
              "0                           0                               0   \n",
              "1                           0                               0   \n",
              "2                           0                               0   \n",
              "3                           0                               0   \n",
              "4                           0                               0   \n",
              "\n",
              "   function_Sales / BD, Network / System Administration  function_Tech  \\\n",
              "0                                                  0                 0   \n",
              "1                                                  0                 0   \n",
              "2                                                  0                 0   \n",
              "3                                                  0                 0   \n",
              "4                                                  0                 0   \n",
              "\n",
              "   function_Tour / Travel GuideTour / Travel Management  \\\n",
              "0                                                  0      \n",
              "1                                                  0      \n",
              "2                                                  0      \n",
              "3                                                  0      \n",
              "4                                                  0      \n",
              "\n",
              "   function_Travel / Airlines  function_Travel/Airlines  \\\n",
              "0                           0                         0   \n",
              "1                           0                         0   \n",
              "2                           0                         0   \n",
              "3                           0                         0   \n",
              "4                           0                         0   \n",
              "\n",
              "   function_Web / Mobile Technologies, Application Programming / Maintenance  \\\n",
              "0                                                  0                           \n",
              "1                                                  0                           \n",
              "2                                                  0                           \n",
              "3                                                  0                           \n",
              "4                                                  0                           \n",
              "\n",
              "   function_Web / Mobile Technologies, Professional / Soft Skills Training  \\\n",
              "0                                                  0                         \n",
              "1                                                  0                         \n",
              "2                                                  0                         \n",
              "3                                                  0                         \n",
              "4                                                  0                         \n",
              "\n",
              "   function_Writing/Editing  \n",
              "0                         0  \n",
              "1                         0  \n",
              "2                         0  \n",
              "3                         0  \n",
              "4                         0  "
            ],
            "text/html": [
              "\n",
              "  <div id=\"df-764994b3-f27c-4fb5-81a6-e94314f80759\">\n",
              "    <div class=\"colab-df-container\">\n",
              "      <div>\n",
              "<style scoped>\n",
              "    .dataframe tbody tr th:only-of-type {\n",
              "        vertical-align: middle;\n",
              "    }\n",
              "\n",
              "    .dataframe tbody tr th {\n",
              "        vertical-align: top;\n",
              "    }\n",
              "\n",
              "    .dataframe thead th {\n",
              "        text-align: right;\n",
              "    }\n",
              "</style>\n",
              "<table border=\"1\" class=\"dataframe\">\n",
              "  <thead>\n",
              "    <tr style=\"text-align: right;\">\n",
              "      <th></th>\n",
              "      <th>telecommuting</th>\n",
              "      <th>has_company_logo</th>\n",
              "      <th>has_questions</th>\n",
              "      <th>empty_compprof</th>\n",
              "      <th>empty_desc</th>\n",
              "      <th>empty_req</th>\n",
              "      <th>empty_benefits</th>\n",
              "      <th>has_short_desc</th>\n",
              "      <th>has_short_compprof</th>\n",
              "      <th>has_short_req</th>\n",
              "      <th>has_spec_attr</th>\n",
              "      <th>fraudulent</th>\n",
              "      <th>employment_type_Contract</th>\n",
              "      <th>employment_type_Empty</th>\n",
              "      <th>employment_type_Full Time</th>\n",
              "      <th>employment_type_Other</th>\n",
              "      <th>employment_type_Part Time</th>\n",
              "      <th>employment_type_Temporary</th>\n",
              "      <th>required_education_Bachelor's Degree</th>\n",
              "      <th>required_education_Bachelors/Masters</th>\n",
              "      <th>required_education_Certification</th>\n",
              "      <th>required_education_Diploma</th>\n",
              "      <th>required_education_Empty</th>\n",
              "      <th>required_education_Engineer</th>\n",
              "      <th>required_education_HSC</th>\n",
              "      <th>required_education_HSC/Bachelors</th>\n",
              "      <th>required_education_HSC/Bachelors/Masters</th>\n",
              "      <th>required_education_MBA</th>\n",
              "      <th>required_education_Master's Degree</th>\n",
              "      <th>required_education_Professional</th>\n",
              "      <th>required_education_SSC</th>\n",
              "      <th>required_education_Unspecified</th>\n",
              "      <th>required_experience_Associate</th>\n",
              "      <th>required_experience_Director</th>\n",
              "      <th>required_experience_Empty</th>\n",
              "      <th>required_experience_Entry level</th>\n",
              "      <th>required_experience_Executive</th>\n",
              "      <th>required_experience_Fresher</th>\n",
              "      <th>required_experience_Internship</th>\n",
              "      <th>required_experience_Mid-Senior level</th>\n",
              "      <th>required_experience_Not Applicable</th>\n",
              "      <th>required_experience_Senior level</th>\n",
              "      <th>industry_\\nBio Technology &amp; Life Sciences</th>\n",
              "      <th>industry_Airlines / Aviation / Aerospace</th>\n",
              "      <th>industry_Airlines/Aviation/Aerospace</th>\n",
              "      <th>industry_Animation</th>\n",
              "      <th>industry_Aviation / Airline</th>\n",
              "      <th>industry_Banking / Accounting / Financial Services</th>\n",
              "      <th>industry_Banking/Accounting/Financial Services</th>\n",
              "      <th>industry_Computer Networking</th>\n",
              "      <th>industry_Computer Software</th>\n",
              "      <th>industry_Construction &amp; Engineering</th>\n",
              "      <th>industry_Consulting / Advisory Services</th>\n",
              "      <th>industry_Education / Training</th>\n",
              "      <th>industry_Education Management</th>\n",
              "      <th>industry_Empty</th>\n",
              "      <th>industry_Engineering &amp; Design</th>\n",
              "      <th>industry_Engineering / Construction</th>\n",
              "      <th>industry_Entertainment / Media / Publishing</th>\n",
              "      <th>industry_Entertainment/Media/Publishing</th>\n",
              "      <th>industry_Graphic Design</th>\n",
              "      <th>industry_Hospital &amp; Health Care</th>\n",
              "      <th>industry_Hospitals/Healthcare/Diagnostics</th>\n",
              "      <th>industry_IT</th>\n",
              "      <th>industry_IT - Hardware / Networking</th>\n",
              "      <th>industry_IT - Hardware / Networking</th>\n",
              "      <th>industry_IT - Software</th>\n",
              "      <th>industry_IT - Software</th>\n",
              "      <th>industry_IT / Computers - Software</th>\n",
              "      <th>industry_IT/Computers - Hardware &amp; Networking , IT/Computers - Software</th>\n",
              "      <th>industry_IT/Computers - Software</th>\n",
              "      <th>industry_IT/Computers - Software</th>\n",
              "      <th>industry_IT/Computers - Software</th>\n",
              "      <th>industry_ITES/BPO</th>\n",
              "      <th>industry_ITES/BPO</th>\n",
              "      <th>industry_IT / Computers - Software</th>\n",
              "      <th>industry_Information Services</th>\n",
              "      <th>industry_Information Technology and Services</th>\n",
              "      <th>industry_Internet</th>\n",
              "      <th>industry_Internet / E-commerce</th>\n",
              "      <th>industry_Internet/E-commerce</th>\n",
              "      <th>industry_Internet/E-commerce</th>\n",
              "      <th>industry_Luxury Goods &amp; Jewelry</th>\n",
              "      <th>industry_Manufacturing</th>\n",
              "      <th>industry_Market Research</th>\n",
              "      <th>industry_Nonprofit Organization Management</th>\n",
              "      <th>industry_Oil &amp; Gas / Petroleum</th>\n",
              "      <th>industry_Other</th>\n",
              "      <th>industry_Other</th>\n",
              "      <th>industry_Outsourcing/Offshoring</th>\n",
              "      <th>industry_Pharmaceuticals</th>\n",
              "      <th>industry_Recruitment/Staffing/RPO</th>\n",
              "      <th>industry_Retail</th>\n",
              "      <th>industry_Software Development</th>\n",
              "      <th>industry_T / Computers - Software</th>\n",
              "      <th>industry_Telecom</th>\n",
              "      <th>industry_Wellness/Fitness/Sports</th>\n",
              "      <th>industry_Writing and Editing</th>\n",
              "      <th>industry_ IT/Computers - Software</th>\n",
              "      <th>function_Accounting/Auditing</th>\n",
              "      <th>function_Admin / Secretarial / Front Office</th>\n",
              "      <th>function_Administrative</th>\n",
              "      <th>function_Airport / Airline Ground OperationsService / Installation / Repair</th>\n",
              "      <th>function_Art/Creative</th>\n",
              "      <th>function_Banking</th>\n",
              "      <th>function_Consulting</th>\n",
              "      <th>function_Customer Service (Domestic)</th>\n",
              "      <th>function_Customer Service/Call Centre/BPO</th>\n",
              "      <th>function_Customer Service/Call Centre/BPO</th>\n",
              "      <th>function_Design</th>\n",
              "      <th>function_Development</th>\n",
              "      <th>function_Digital Marketing</th>\n",
              "      <th>function_Education</th>\n",
              "      <th>function_Education / Teaching</th>\n",
              "      <th>function_Empty</th>\n",
              "      <th>function_Engineering</th>\n",
              "      <th>function_Engineering - Electrical</th>\n",
              "      <th>function_Engineering - Mechanical</th>\n",
              "      <th>function_Engineering Design / Construction</th>\n",
              "      <th>function_Engineering Design / Construction Oil &amp; Gas Engineering</th>\n",
              "      <th>function_Finance &amp; Accounts</th>\n",
              "      <th>function_General / Other Software</th>\n",
              "      <th>function_General / Other Software Network / System Administration</th>\n",
              "      <th>function_Health Care</th>\n",
              "      <th>function_Health Care</th>\n",
              "      <th>function_Health Care Provider</th>\n",
              "      <th>function_Human Resources</th>\n",
              "      <th>function_Human Resources</th>\n",
              "      <th>function_IT</th>\n",
              "      <th>function_IT</th>\n",
              "      <th>function_IT - Software</th>\n",
              "      <th>function_IT- Hardware/Telecom/Technical Staff/Support , IT/Software Development - Network Administration/Security</th>\n",
              "      <th>function_Information Technology</th>\n",
              "      <th>function_Journalism / Content Writing / Editing / Correspondent</th>\n",
              "      <th>function_Marketing</th>\n",
              "      <th>function_Marketing &amp; Communications</th>\n",
              "      <th>function_Other</th>\n",
              "      <th>function_Others</th>\n",
              "      <th>function_Quality Assurance</th>\n",
              "      <th>function_R&amp;D / Product Design</th>\n",
              "      <th>function_Research</th>\n",
              "      <th>function_Reservation and Ticketing</th>\n",
              "      <th>function_Sales</th>\n",
              "      <th>function_Sales - Corporate</th>\n",
              "      <th>function_Sales / BD Pre-Sales</th>\n",
              "      <th>function_Sales / BD, Network / System Administration</th>\n",
              "      <th>function_Tech</th>\n",
              "      <th>function_Tour / Travel GuideTour / Travel Management</th>\n",
              "      <th>function_Travel / Airlines</th>\n",
              "      <th>function_Travel/Airlines</th>\n",
              "      <th>function_Web / Mobile Technologies, Application Programming / Maintenance</th>\n",
              "      <th>function_Web / Mobile Technologies, Professional / Soft Skills Training</th>\n",
              "      <th>function_Writing/Editing</th>\n",
              "    </tr>\n",
              "  </thead>\n",
              "  <tbody>\n",
              "    <tr>\n",
              "      <th>0</th>\n",
              "      <td>0</td>\n",
              "      <td>1</td>\n",
              "      <td>1</td>\n",
              "      <td>0</td>\n",
              "      <td>0</td>\n",
              "      <td>0</td>\n",
              "      <td>1</td>\n",
              "      <td>1</td>\n",
              "      <td>0</td>\n",
              "      <td>1</td>\n",
              "      <td>0</td>\n",
              "      <td>0</td>\n",
              "      <td>0</td>\n",
              "      <td>0</td>\n",
              "      <td>1</td>\n",
              "      <td>0</td>\n",
              "      <td>0</td>\n",
              "      <td>0</td>\n",
              "      <td>0</td>\n",
              "      <td>0</td>\n",
              "      <td>0</td>\n",
              "      <td>0</td>\n",
              "      <td>0</td>\n",
              "      <td>0</td>\n",
              "      <td>0</td>\n",
              "      <td>0</td>\n",
              "      <td>0</td>\n",
              "      <td>0</td>\n",
              "      <td>1</td>\n",
              "      <td>0</td>\n",
              "      <td>0</td>\n",
              "      <td>0</td>\n",
              "      <td>0</td>\n",
              "      <td>0</td>\n",
              "      <td>0</td>\n",
              "      <td>0</td>\n",
              "      <td>0</td>\n",
              "      <td>0</td>\n",
              "      <td>0</td>\n",
              "      <td>1</td>\n",
              "      <td>0</td>\n",
              "      <td>0</td>\n",
              "      <td>0</td>\n",
              "      <td>0</td>\n",
              "      <td>0</td>\n",
              "      <td>0</td>\n",
              "      <td>0</td>\n",
              "      <td>0</td>\n",
              "      <td>0</td>\n",
              "      <td>0</td>\n",
              "      <td>0</td>\n",
              "      <td>0</td>\n",
              "      <td>0</td>\n",
              "      <td>0</td>\n",
              "      <td>0</td>\n",
              "      <td>0</td>\n",
              "      <td>0</td>\n",
              "      <td>0</td>\n",
              "      <td>0</td>\n",
              "      <td>0</td>\n",
              "      <td>0</td>\n",
              "      <td>0</td>\n",
              "      <td>0</td>\n",
              "      <td>0</td>\n",
              "      <td>0</td>\n",
              "      <td>0</td>\n",
              "      <td>0</td>\n",
              "      <td>0</td>\n",
              "      <td>0</td>\n",
              "      <td>1</td>\n",
              "      <td>0</td>\n",
              "      <td>0</td>\n",
              "      <td>0</td>\n",
              "      <td>0</td>\n",
              "      <td>0</td>\n",
              "      <td>0</td>\n",
              "      <td>0</td>\n",
              "      <td>0</td>\n",
              "      <td>0</td>\n",
              "      <td>0</td>\n",
              "      <td>0</td>\n",
              "      <td>0</td>\n",
              "      <td>0</td>\n",
              "      <td>0</td>\n",
              "      <td>0</td>\n",
              "      <td>0</td>\n",
              "      <td>0</td>\n",
              "      <td>0</td>\n",
              "      <td>0</td>\n",
              "      <td>0</td>\n",
              "      <td>0</td>\n",
              "      <td>0</td>\n",
              "      <td>0</td>\n",
              "      <td>0</td>\n",
              "      <td>0</td>\n",
              "      <td>0</td>\n",
              "      <td>0</td>\n",
              "      <td>0</td>\n",
              "      <td>0</td>\n",
              "      <td>0</td>\n",
              "      <td>0</td>\n",
              "      <td>0</td>\n",
              "      <td>0</td>\n",
              "      <td>0</td>\n",
              "      <td>0</td>\n",
              "      <td>0</td>\n",
              "      <td>0</td>\n",
              "      <td>0</td>\n",
              "      <td>0</td>\n",
              "      <td>0</td>\n",
              "      <td>0</td>\n",
              "      <td>0</td>\n",
              "      <td>0</td>\n",
              "      <td>0</td>\n",
              "      <td>0</td>\n",
              "      <td>0</td>\n",
              "      <td>0</td>\n",
              "      <td>0</td>\n",
              "      <td>0</td>\n",
              "      <td>0</td>\n",
              "      <td>0</td>\n",
              "      <td>0</td>\n",
              "      <td>0</td>\n",
              "      <td>0</td>\n",
              "      <td>0</td>\n",
              "      <td>0</td>\n",
              "      <td>0</td>\n",
              "      <td>0</td>\n",
              "      <td>1</td>\n",
              "      <td>0</td>\n",
              "      <td>0</td>\n",
              "      <td>0</td>\n",
              "      <td>0</td>\n",
              "      <td>0</td>\n",
              "      <td>0</td>\n",
              "      <td>0</td>\n",
              "      <td>0</td>\n",
              "      <td>0</td>\n",
              "      <td>0</td>\n",
              "      <td>0</td>\n",
              "      <td>0</td>\n",
              "      <td>0</td>\n",
              "      <td>0</td>\n",
              "      <td>0</td>\n",
              "      <td>0</td>\n",
              "      <td>0</td>\n",
              "      <td>0</td>\n",
              "      <td>0</td>\n",
              "      <td>0</td>\n",
              "      <td>0</td>\n",
              "      <td>0</td>\n",
              "      <td>0</td>\n",
              "      <td>0</td>\n",
              "    </tr>\n",
              "    <tr>\n",
              "      <th>1</th>\n",
              "      <td>0</td>\n",
              "      <td>0</td>\n",
              "      <td>1</td>\n",
              "      <td>0</td>\n",
              "      <td>0</td>\n",
              "      <td>0</td>\n",
              "      <td>1</td>\n",
              "      <td>0</td>\n",
              "      <td>1</td>\n",
              "      <td>1</td>\n",
              "      <td>0</td>\n",
              "      <td>0</td>\n",
              "      <td>0</td>\n",
              "      <td>0</td>\n",
              "      <td>0</td>\n",
              "      <td>0</td>\n",
              "      <td>1</td>\n",
              "      <td>0</td>\n",
              "      <td>0</td>\n",
              "      <td>0</td>\n",
              "      <td>0</td>\n",
              "      <td>0</td>\n",
              "      <td>0</td>\n",
              "      <td>0</td>\n",
              "      <td>0</td>\n",
              "      <td>0</td>\n",
              "      <td>0</td>\n",
              "      <td>0</td>\n",
              "      <td>1</td>\n",
              "      <td>0</td>\n",
              "      <td>0</td>\n",
              "      <td>0</td>\n",
              "      <td>0</td>\n",
              "      <td>0</td>\n",
              "      <td>0</td>\n",
              "      <td>0</td>\n",
              "      <td>0</td>\n",
              "      <td>0</td>\n",
              "      <td>0</td>\n",
              "      <td>1</td>\n",
              "      <td>0</td>\n",
              "      <td>0</td>\n",
              "      <td>0</td>\n",
              "      <td>0</td>\n",
              "      <td>0</td>\n",
              "      <td>0</td>\n",
              "      <td>0</td>\n",
              "      <td>0</td>\n",
              "      <td>0</td>\n",
              "      <td>0</td>\n",
              "      <td>0</td>\n",
              "      <td>0</td>\n",
              "      <td>0</td>\n",
              "      <td>0</td>\n",
              "      <td>0</td>\n",
              "      <td>0</td>\n",
              "      <td>0</td>\n",
              "      <td>0</td>\n",
              "      <td>0</td>\n",
              "      <td>0</td>\n",
              "      <td>0</td>\n",
              "      <td>0</td>\n",
              "      <td>0</td>\n",
              "      <td>0</td>\n",
              "      <td>0</td>\n",
              "      <td>0</td>\n",
              "      <td>0</td>\n",
              "      <td>0</td>\n",
              "      <td>0</td>\n",
              "      <td>0</td>\n",
              "      <td>0</td>\n",
              "      <td>0</td>\n",
              "      <td>0</td>\n",
              "      <td>0</td>\n",
              "      <td>0</td>\n",
              "      <td>1</td>\n",
              "      <td>0</td>\n",
              "      <td>0</td>\n",
              "      <td>0</td>\n",
              "      <td>0</td>\n",
              "      <td>0</td>\n",
              "      <td>0</td>\n",
              "      <td>0</td>\n",
              "      <td>0</td>\n",
              "      <td>0</td>\n",
              "      <td>0</td>\n",
              "      <td>0</td>\n",
              "      <td>0</td>\n",
              "      <td>0</td>\n",
              "      <td>0</td>\n",
              "      <td>0</td>\n",
              "      <td>0</td>\n",
              "      <td>0</td>\n",
              "      <td>0</td>\n",
              "      <td>0</td>\n",
              "      <td>0</td>\n",
              "      <td>0</td>\n",
              "      <td>0</td>\n",
              "      <td>0</td>\n",
              "      <td>0</td>\n",
              "      <td>0</td>\n",
              "      <td>0</td>\n",
              "      <td>0</td>\n",
              "      <td>0</td>\n",
              "      <td>0</td>\n",
              "      <td>0</td>\n",
              "      <td>0</td>\n",
              "      <td>0</td>\n",
              "      <td>0</td>\n",
              "      <td>0</td>\n",
              "      <td>0</td>\n",
              "      <td>0</td>\n",
              "      <td>0</td>\n",
              "      <td>0</td>\n",
              "      <td>1</td>\n",
              "      <td>0</td>\n",
              "      <td>0</td>\n",
              "      <td>0</td>\n",
              "      <td>0</td>\n",
              "      <td>0</td>\n",
              "      <td>0</td>\n",
              "      <td>0</td>\n",
              "      <td>0</td>\n",
              "      <td>0</td>\n",
              "      <td>0</td>\n",
              "      <td>0</td>\n",
              "      <td>0</td>\n",
              "      <td>0</td>\n",
              "      <td>0</td>\n",
              "      <td>0</td>\n",
              "      <td>0</td>\n",
              "      <td>0</td>\n",
              "      <td>0</td>\n",
              "      <td>0</td>\n",
              "      <td>0</td>\n",
              "      <td>0</td>\n",
              "      <td>0</td>\n",
              "      <td>0</td>\n",
              "      <td>0</td>\n",
              "      <td>0</td>\n",
              "      <td>0</td>\n",
              "      <td>0</td>\n",
              "      <td>0</td>\n",
              "      <td>0</td>\n",
              "      <td>0</td>\n",
              "      <td>0</td>\n",
              "      <td>0</td>\n",
              "      <td>0</td>\n",
              "      <td>0</td>\n",
              "      <td>0</td>\n",
              "      <td>0</td>\n",
              "      <td>0</td>\n",
              "      <td>0</td>\n",
              "    </tr>\n",
              "    <tr>\n",
              "      <th>2</th>\n",
              "      <td>0</td>\n",
              "      <td>1</td>\n",
              "      <td>1</td>\n",
              "      <td>0</td>\n",
              "      <td>0</td>\n",
              "      <td>0</td>\n",
              "      <td>1</td>\n",
              "      <td>1</td>\n",
              "      <td>0</td>\n",
              "      <td>0</td>\n",
              "      <td>0</td>\n",
              "      <td>0</td>\n",
              "      <td>0</td>\n",
              "      <td>0</td>\n",
              "      <td>1</td>\n",
              "      <td>0</td>\n",
              "      <td>0</td>\n",
              "      <td>0</td>\n",
              "      <td>1</td>\n",
              "      <td>0</td>\n",
              "      <td>0</td>\n",
              "      <td>0</td>\n",
              "      <td>0</td>\n",
              "      <td>0</td>\n",
              "      <td>0</td>\n",
              "      <td>0</td>\n",
              "      <td>0</td>\n",
              "      <td>0</td>\n",
              "      <td>0</td>\n",
              "      <td>0</td>\n",
              "      <td>0</td>\n",
              "      <td>0</td>\n",
              "      <td>1</td>\n",
              "      <td>0</td>\n",
              "      <td>0</td>\n",
              "      <td>0</td>\n",
              "      <td>0</td>\n",
              "      <td>0</td>\n",
              "      <td>0</td>\n",
              "      <td>0</td>\n",
              "      <td>0</td>\n",
              "      <td>0</td>\n",
              "      <td>0</td>\n",
              "      <td>0</td>\n",
              "      <td>0</td>\n",
              "      <td>0</td>\n",
              "      <td>0</td>\n",
              "      <td>0</td>\n",
              "      <td>0</td>\n",
              "      <td>0</td>\n",
              "      <td>0</td>\n",
              "      <td>0</td>\n",
              "      <td>0</td>\n",
              "      <td>0</td>\n",
              "      <td>0</td>\n",
              "      <td>0</td>\n",
              "      <td>0</td>\n",
              "      <td>0</td>\n",
              "      <td>0</td>\n",
              "      <td>0</td>\n",
              "      <td>0</td>\n",
              "      <td>0</td>\n",
              "      <td>0</td>\n",
              "      <td>0</td>\n",
              "      <td>0</td>\n",
              "      <td>0</td>\n",
              "      <td>0</td>\n",
              "      <td>0</td>\n",
              "      <td>0</td>\n",
              "      <td>0</td>\n",
              "      <td>0</td>\n",
              "      <td>0</td>\n",
              "      <td>0</td>\n",
              "      <td>1</td>\n",
              "      <td>0</td>\n",
              "      <td>0</td>\n",
              "      <td>0</td>\n",
              "      <td>0</td>\n",
              "      <td>0</td>\n",
              "      <td>0</td>\n",
              "      <td>0</td>\n",
              "      <td>0</td>\n",
              "      <td>0</td>\n",
              "      <td>0</td>\n",
              "      <td>0</td>\n",
              "      <td>0</td>\n",
              "      <td>0</td>\n",
              "      <td>0</td>\n",
              "      <td>0</td>\n",
              "      <td>0</td>\n",
              "      <td>0</td>\n",
              "      <td>0</td>\n",
              "      <td>0</td>\n",
              "      <td>0</td>\n",
              "      <td>0</td>\n",
              "      <td>0</td>\n",
              "      <td>0</td>\n",
              "      <td>0</td>\n",
              "      <td>0</td>\n",
              "      <td>0</td>\n",
              "      <td>0</td>\n",
              "      <td>0</td>\n",
              "      <td>0</td>\n",
              "      <td>0</td>\n",
              "      <td>0</td>\n",
              "      <td>0</td>\n",
              "      <td>0</td>\n",
              "      <td>1</td>\n",
              "      <td>0</td>\n",
              "      <td>0</td>\n",
              "      <td>0</td>\n",
              "      <td>0</td>\n",
              "      <td>0</td>\n",
              "      <td>0</td>\n",
              "      <td>0</td>\n",
              "      <td>0</td>\n",
              "      <td>0</td>\n",
              "      <td>0</td>\n",
              "      <td>0</td>\n",
              "      <td>0</td>\n",
              "      <td>0</td>\n",
              "      <td>0</td>\n",
              "      <td>0</td>\n",
              "      <td>0</td>\n",
              "      <td>0</td>\n",
              "      <td>0</td>\n",
              "      <td>0</td>\n",
              "      <td>0</td>\n",
              "      <td>0</td>\n",
              "      <td>0</td>\n",
              "      <td>0</td>\n",
              "      <td>0</td>\n",
              "      <td>0</td>\n",
              "      <td>0</td>\n",
              "      <td>0</td>\n",
              "      <td>0</td>\n",
              "      <td>0</td>\n",
              "      <td>0</td>\n",
              "      <td>0</td>\n",
              "      <td>0</td>\n",
              "      <td>0</td>\n",
              "      <td>0</td>\n",
              "      <td>0</td>\n",
              "      <td>0</td>\n",
              "      <td>0</td>\n",
              "      <td>0</td>\n",
              "      <td>0</td>\n",
              "      <td>0</td>\n",
              "      <td>0</td>\n",
              "      <td>0</td>\n",
              "      <td>0</td>\n",
              "      <td>0</td>\n",
              "      <td>0</td>\n",
              "    </tr>\n",
              "    <tr>\n",
              "      <th>3</th>\n",
              "      <td>1</td>\n",
              "      <td>0</td>\n",
              "      <td>0</td>\n",
              "      <td>0</td>\n",
              "      <td>0</td>\n",
              "      <td>0</td>\n",
              "      <td>1</td>\n",
              "      <td>1</td>\n",
              "      <td>1</td>\n",
              "      <td>0</td>\n",
              "      <td>0</td>\n",
              "      <td>1</td>\n",
              "      <td>0</td>\n",
              "      <td>0</td>\n",
              "      <td>1</td>\n",
              "      <td>0</td>\n",
              "      <td>0</td>\n",
              "      <td>0</td>\n",
              "      <td>1</td>\n",
              "      <td>0</td>\n",
              "      <td>0</td>\n",
              "      <td>0</td>\n",
              "      <td>0</td>\n",
              "      <td>0</td>\n",
              "      <td>0</td>\n",
              "      <td>0</td>\n",
              "      <td>0</td>\n",
              "      <td>0</td>\n",
              "      <td>0</td>\n",
              "      <td>0</td>\n",
              "      <td>0</td>\n",
              "      <td>0</td>\n",
              "      <td>1</td>\n",
              "      <td>0</td>\n",
              "      <td>0</td>\n",
              "      <td>0</td>\n",
              "      <td>0</td>\n",
              "      <td>0</td>\n",
              "      <td>0</td>\n",
              "      <td>0</td>\n",
              "      <td>0</td>\n",
              "      <td>0</td>\n",
              "      <td>0</td>\n",
              "      <td>0</td>\n",
              "      <td>0</td>\n",
              "      <td>0</td>\n",
              "      <td>0</td>\n",
              "      <td>0</td>\n",
              "      <td>0</td>\n",
              "      <td>0</td>\n",
              "      <td>0</td>\n",
              "      <td>0</td>\n",
              "      <td>0</td>\n",
              "      <td>0</td>\n",
              "      <td>0</td>\n",
              "      <td>0</td>\n",
              "      <td>0</td>\n",
              "      <td>0</td>\n",
              "      <td>0</td>\n",
              "      <td>0</td>\n",
              "      <td>0</td>\n",
              "      <td>0</td>\n",
              "      <td>0</td>\n",
              "      <td>0</td>\n",
              "      <td>0</td>\n",
              "      <td>0</td>\n",
              "      <td>0</td>\n",
              "      <td>0</td>\n",
              "      <td>0</td>\n",
              "      <td>0</td>\n",
              "      <td>1</td>\n",
              "      <td>0</td>\n",
              "      <td>0</td>\n",
              "      <td>0</td>\n",
              "      <td>0</td>\n",
              "      <td>0</td>\n",
              "      <td>0</td>\n",
              "      <td>0</td>\n",
              "      <td>0</td>\n",
              "      <td>0</td>\n",
              "      <td>0</td>\n",
              "      <td>0</td>\n",
              "      <td>0</td>\n",
              "      <td>0</td>\n",
              "      <td>0</td>\n",
              "      <td>0</td>\n",
              "      <td>0</td>\n",
              "      <td>0</td>\n",
              "      <td>0</td>\n",
              "      <td>0</td>\n",
              "      <td>0</td>\n",
              "      <td>0</td>\n",
              "      <td>0</td>\n",
              "      <td>0</td>\n",
              "      <td>0</td>\n",
              "      <td>0</td>\n",
              "      <td>0</td>\n",
              "      <td>0</td>\n",
              "      <td>0</td>\n",
              "      <td>0</td>\n",
              "      <td>0</td>\n",
              "      <td>0</td>\n",
              "      <td>0</td>\n",
              "      <td>0</td>\n",
              "      <td>0</td>\n",
              "      <td>0</td>\n",
              "      <td>0</td>\n",
              "      <td>0</td>\n",
              "      <td>0</td>\n",
              "      <td>0</td>\n",
              "      <td>0</td>\n",
              "      <td>0</td>\n",
              "      <td>0</td>\n",
              "      <td>0</td>\n",
              "      <td>0</td>\n",
              "      <td>0</td>\n",
              "      <td>0</td>\n",
              "      <td>0</td>\n",
              "      <td>0</td>\n",
              "      <td>0</td>\n",
              "      <td>0</td>\n",
              "      <td>0</td>\n",
              "      <td>0</td>\n",
              "      <td>0</td>\n",
              "      <td>0</td>\n",
              "      <td>0</td>\n",
              "      <td>0</td>\n",
              "      <td>0</td>\n",
              "      <td>1</td>\n",
              "      <td>0</td>\n",
              "      <td>0</td>\n",
              "      <td>0</td>\n",
              "      <td>0</td>\n",
              "      <td>0</td>\n",
              "      <td>0</td>\n",
              "      <td>0</td>\n",
              "      <td>0</td>\n",
              "      <td>0</td>\n",
              "      <td>0</td>\n",
              "      <td>0</td>\n",
              "      <td>0</td>\n",
              "      <td>0</td>\n",
              "      <td>0</td>\n",
              "      <td>0</td>\n",
              "      <td>0</td>\n",
              "      <td>0</td>\n",
              "      <td>0</td>\n",
              "      <td>0</td>\n",
              "      <td>0</td>\n",
              "      <td>0</td>\n",
              "      <td>0</td>\n",
              "      <td>0</td>\n",
              "      <td>0</td>\n",
              "    </tr>\n",
              "    <tr>\n",
              "      <th>4</th>\n",
              "      <td>1</td>\n",
              "      <td>0</td>\n",
              "      <td>0</td>\n",
              "      <td>1</td>\n",
              "      <td>0</td>\n",
              "      <td>1</td>\n",
              "      <td>1</td>\n",
              "      <td>1</td>\n",
              "      <td>1</td>\n",
              "      <td>1</td>\n",
              "      <td>0</td>\n",
              "      <td>1</td>\n",
              "      <td>0</td>\n",
              "      <td>0</td>\n",
              "      <td>0</td>\n",
              "      <td>0</td>\n",
              "      <td>1</td>\n",
              "      <td>0</td>\n",
              "      <td>1</td>\n",
              "      <td>0</td>\n",
              "      <td>0</td>\n",
              "      <td>0</td>\n",
              "      <td>0</td>\n",
              "      <td>0</td>\n",
              "      <td>0</td>\n",
              "      <td>0</td>\n",
              "      <td>0</td>\n",
              "      <td>0</td>\n",
              "      <td>0</td>\n",
              "      <td>0</td>\n",
              "      <td>0</td>\n",
              "      <td>0</td>\n",
              "      <td>1</td>\n",
              "      <td>0</td>\n",
              "      <td>0</td>\n",
              "      <td>0</td>\n",
              "      <td>0</td>\n",
              "      <td>0</td>\n",
              "      <td>0</td>\n",
              "      <td>0</td>\n",
              "      <td>0</td>\n",
              "      <td>0</td>\n",
              "      <td>0</td>\n",
              "      <td>0</td>\n",
              "      <td>0</td>\n",
              "      <td>0</td>\n",
              "      <td>0</td>\n",
              "      <td>0</td>\n",
              "      <td>0</td>\n",
              "      <td>0</td>\n",
              "      <td>0</td>\n",
              "      <td>0</td>\n",
              "      <td>0</td>\n",
              "      <td>0</td>\n",
              "      <td>0</td>\n",
              "      <td>0</td>\n",
              "      <td>0</td>\n",
              "      <td>0</td>\n",
              "      <td>0</td>\n",
              "      <td>0</td>\n",
              "      <td>0</td>\n",
              "      <td>0</td>\n",
              "      <td>0</td>\n",
              "      <td>0</td>\n",
              "      <td>0</td>\n",
              "      <td>0</td>\n",
              "      <td>0</td>\n",
              "      <td>0</td>\n",
              "      <td>0</td>\n",
              "      <td>0</td>\n",
              "      <td>0</td>\n",
              "      <td>0</td>\n",
              "      <td>0</td>\n",
              "      <td>0</td>\n",
              "      <td>0</td>\n",
              "      <td>0</td>\n",
              "      <td>0</td>\n",
              "      <td>0</td>\n",
              "      <td>0</td>\n",
              "      <td>0</td>\n",
              "      <td>0</td>\n",
              "      <td>0</td>\n",
              "      <td>0</td>\n",
              "      <td>0</td>\n",
              "      <td>0</td>\n",
              "      <td>0</td>\n",
              "      <td>0</td>\n",
              "      <td>0</td>\n",
              "      <td>0</td>\n",
              "      <td>0</td>\n",
              "      <td>0</td>\n",
              "      <td>0</td>\n",
              "      <td>0</td>\n",
              "      <td>0</td>\n",
              "      <td>0</td>\n",
              "      <td>1</td>\n",
              "      <td>0</td>\n",
              "      <td>0</td>\n",
              "      <td>0</td>\n",
              "      <td>0</td>\n",
              "      <td>0</td>\n",
              "      <td>0</td>\n",
              "      <td>0</td>\n",
              "      <td>0</td>\n",
              "      <td>0</td>\n",
              "      <td>0</td>\n",
              "      <td>0</td>\n",
              "      <td>1</td>\n",
              "      <td>0</td>\n",
              "      <td>0</td>\n",
              "      <td>0</td>\n",
              "      <td>0</td>\n",
              "      <td>0</td>\n",
              "      <td>0</td>\n",
              "      <td>0</td>\n",
              "      <td>0</td>\n",
              "      <td>0</td>\n",
              "      <td>0</td>\n",
              "      <td>0</td>\n",
              "      <td>0</td>\n",
              "      <td>0</td>\n",
              "      <td>0</td>\n",
              "      <td>0</td>\n",
              "      <td>0</td>\n",
              "      <td>0</td>\n",
              "      <td>0</td>\n",
              "      <td>0</td>\n",
              "      <td>0</td>\n",
              "      <td>0</td>\n",
              "      <td>0</td>\n",
              "      <td>0</td>\n",
              "      <td>0</td>\n",
              "      <td>0</td>\n",
              "      <td>0</td>\n",
              "      <td>0</td>\n",
              "      <td>0</td>\n",
              "      <td>0</td>\n",
              "      <td>0</td>\n",
              "      <td>0</td>\n",
              "      <td>0</td>\n",
              "      <td>0</td>\n",
              "      <td>0</td>\n",
              "      <td>0</td>\n",
              "      <td>0</td>\n",
              "      <td>0</td>\n",
              "      <td>0</td>\n",
              "      <td>0</td>\n",
              "      <td>0</td>\n",
              "      <td>0</td>\n",
              "      <td>0</td>\n",
              "      <td>0</td>\n",
              "      <td>0</td>\n",
              "      <td>0</td>\n",
              "    </tr>\n",
              "  </tbody>\n",
              "</table>\n",
              "</div>\n",
              "      <button class=\"colab-df-convert\" onclick=\"convertToInteractive('df-764994b3-f27c-4fb5-81a6-e94314f80759')\"\n",
              "              title=\"Convert this dataframe to an interactive table.\"\n",
              "              style=\"display:none;\">\n",
              "        \n",
              "  <svg xmlns=\"http://www.w3.org/2000/svg\" height=\"24px\"viewBox=\"0 0 24 24\"\n",
              "       width=\"24px\">\n",
              "    <path d=\"M0 0h24v24H0V0z\" fill=\"none\"/>\n",
              "    <path d=\"M18.56 5.44l.94 2.06.94-2.06 2.06-.94-2.06-.94-.94-2.06-.94 2.06-2.06.94zm-11 1L8.5 8.5l.94-2.06 2.06-.94-2.06-.94L8.5 2.5l-.94 2.06-2.06.94zm10 10l.94 2.06.94-2.06 2.06-.94-2.06-.94-.94-2.06-.94 2.06-2.06.94z\"/><path d=\"M17.41 7.96l-1.37-1.37c-.4-.4-.92-.59-1.43-.59-.52 0-1.04.2-1.43.59L10.3 9.45l-7.72 7.72c-.78.78-.78 2.05 0 2.83L4 21.41c.39.39.9.59 1.41.59.51 0 1.02-.2 1.41-.59l7.78-7.78 2.81-2.81c.8-.78.8-2.07 0-2.86zM5.41 20L4 18.59l7.72-7.72 1.47 1.35L5.41 20z\"/>\n",
              "  </svg>\n",
              "      </button>\n",
              "      \n",
              "  <style>\n",
              "    .colab-df-container {\n",
              "      display:flex;\n",
              "      flex-wrap:wrap;\n",
              "      gap: 12px;\n",
              "    }\n",
              "\n",
              "    .colab-df-convert {\n",
              "      background-color: #E8F0FE;\n",
              "      border: none;\n",
              "      border-radius: 50%;\n",
              "      cursor: pointer;\n",
              "      display: none;\n",
              "      fill: #1967D2;\n",
              "      height: 32px;\n",
              "      padding: 0 0 0 0;\n",
              "      width: 32px;\n",
              "    }\n",
              "\n",
              "    .colab-df-convert:hover {\n",
              "      background-color: #E2EBFA;\n",
              "      box-shadow: 0px 1px 2px rgba(60, 64, 67, 0.3), 0px 1px 3px 1px rgba(60, 64, 67, 0.15);\n",
              "      fill: #174EA6;\n",
              "    }\n",
              "\n",
              "    [theme=dark] .colab-df-convert {\n",
              "      background-color: #3B4455;\n",
              "      fill: #D2E3FC;\n",
              "    }\n",
              "\n",
              "    [theme=dark] .colab-df-convert:hover {\n",
              "      background-color: #434B5C;\n",
              "      box-shadow: 0px 1px 3px 1px rgba(0, 0, 0, 0.15);\n",
              "      filter: drop-shadow(0px 1px 2px rgba(0, 0, 0, 0.3));\n",
              "      fill: #FFFFFF;\n",
              "    }\n",
              "  </style>\n",
              "\n",
              "      <script>\n",
              "        const buttonEl =\n",
              "          document.querySelector('#df-764994b3-f27c-4fb5-81a6-e94314f80759 button.colab-df-convert');\n",
              "        buttonEl.style.display =\n",
              "          google.colab.kernel.accessAllowed ? 'block' : 'none';\n",
              "\n",
              "        async function convertToInteractive(key) {\n",
              "          const element = document.querySelector('#df-764994b3-f27c-4fb5-81a6-e94314f80759');\n",
              "          const dataTable =\n",
              "            await google.colab.kernel.invokeFunction('convertToInteractive',\n",
              "                                                     [key], {});\n",
              "          if (!dataTable) return;\n",
              "\n",
              "          const docLinkHtml = 'Like what you see? Visit the ' +\n",
              "            '<a target=\"_blank\" href=https://colab.research.google.com/notebooks/data_table.ipynb>data table notebook</a>'\n",
              "            + ' to learn more about interactive tables.';\n",
              "          element.innerHTML = '';\n",
              "          dataTable['output_type'] = 'display_data';\n",
              "          await google.colab.output.renderOutput(dataTable, element);\n",
              "          const docLink = document.createElement('div');\n",
              "          docLink.innerHTML = docLinkHtml;\n",
              "          element.appendChild(docLink);\n",
              "        }\n",
              "      </script>\n",
              "    </div>\n",
              "  </div>\n",
              "  "
            ]
          },
          "metadata": {},
          "execution_count": 236
        }
      ]
    },
    {
      "cell_type": "markdown",
      "source": [
        "#Importing necessary libraries.\n",
        "\n",
        "And Undersampling..."
      ],
      "metadata": {
        "id": "6vVwWhckZpCN"
      }
    },
    {
      "cell_type": "code",
      "source": [
        "from sklearn.model_selection import train_test_split\n",
        "from sklearn.tree import DecisionTreeClassifier\n",
        "from sklearn import tree\n",
        "import graphviz\n",
        "from sklearn.tree import export_graphviz\n",
        "from sklearn.metrics import classification_report, confusion_matrix, precision_score, recall_score, accuracy_score\n",
        "from sklearn.tree import plot_tree\n",
        "from sklearn.linear_model import LogisticRegression\n",
        "import sklearn.metrics as sm\n",
        "from sklearn.ensemble import RandomForestClassifier\n",
        "from sklearn.model_selection import GridSearchCV, cross_val_score\n",
        "from sklearn.svm import SVC  "
      ],
      "metadata": {
        "id": "pJ9dux9zvwt7"
      },
      "execution_count": 395,
      "outputs": []
    },
    {
      "cell_type": "code",
      "source": [
        ""
      ],
      "metadata": {
        "id": "R0UD68EvwrKE"
      },
      "execution_count": 109,
      "outputs": []
    },
    {
      "cell_type": "code",
      "source": [
        "jdf = detectdf.drop(['fraudulent'],axis=1)\n",
        "y = detectdf['fraudulent']"
      ],
      "metadata": {
        "id": "9bfRO1XmrNLM"
      },
      "execution_count": 396,
      "outputs": []
    },
    {
      "cell_type": "code",
      "source": [
        "print(jdf.shape)\n",
        "print(y.shape)"
      ],
      "metadata": {
        "colab": {
          "base_uri": "https://localhost:8080/"
        },
        "id": "h3xN1y8-wKEE",
        "outputId": "da74c77f-c6a7-4c07-9bfc-b34ca6ffd812"
      },
      "execution_count": 397,
      "outputs": [
        {
          "output_type": "stream",
          "name": "stdout",
          "text": [
            "(220, 152)\n",
            "(220,)\n"
          ]
        }
      ]
    },
    {
      "cell_type": "markdown",
      "source": [
        "#Splitting the data train test"
      ],
      "metadata": {
        "id": "bU7U5Akx9Y4E"
      }
    },
    {
      "cell_type": "code",
      "source": [
        "X_train, X_test, y_train, y_test = train_test_split(jdf, y,test_size = 0.3, random_state = 42)\n",
        "print(\"Training split input- \", X_train.shape)\n",
        "print(\"Testing split input- \", X_test.shape)"
      ],
      "metadata": {
        "colab": {
          "base_uri": "https://localhost:8080/"
        },
        "id": "scKe-OMfx35W",
        "outputId": "58cff586-ca08-4d14-b169-3606ca804a18"
      },
      "execution_count": 398,
      "outputs": [
        {
          "output_type": "stream",
          "name": "stdout",
          "text": [
            "Training split input-  (154, 152)\n",
            "Testing split input-  (66, 152)\n"
          ]
        }
      ]
    },
    {
      "cell_type": "code",
      "source": [
        "print(X_train.shape)\n",
        "print(y_train.shape)"
      ],
      "metadata": {
        "colab": {
          "base_uri": "https://localhost:8080/"
        },
        "id": "1OLuveznaVLn",
        "outputId": "f12fd71d-da64-470f-f491-9093b8bd280d"
      },
      "execution_count": 399,
      "outputs": [
        {
          "output_type": "stream",
          "name": "stdout",
          "text": [
            "(154, 152)\n",
            "(154,)\n"
          ]
        }
      ]
    },
    {
      "cell_type": "code",
      "source": [
        "actual = y_test"
      ],
      "metadata": {
        "id": "IamNMXS2xRKb"
      },
      "execution_count": 400,
      "outputs": []
    },
    {
      "cell_type": "markdown",
      "source": [
        "#DECISION TREE"
      ],
      "metadata": {
        "id": "PZVrxva7w6Zg"
      }
    },
    {
      "cell_type": "code",
      "source": [
        "dtree=DecisionTreeClassifier()\n",
        "p = dtree.fit(X_train,y_train)\n",
        "print('Decision Tree Classifier Created')"
      ],
      "metadata": {
        "colab": {
          "base_uri": "https://localhost:8080/"
        },
        "id": "1DgDtv40qt4B",
        "outputId": "1b465a0e-dcb3-4da7-96ee-1eb0ed077226"
      },
      "execution_count": 401,
      "outputs": [
        {
          "output_type": "stream",
          "name": "stdout",
          "text": [
            "Decision Tree Classifier Created\n"
          ]
        }
      ]
    },
    {
      "cell_type": "code",
      "source": [
        "y_pred_dtree = dtree.predict(X_test)\n",
        "print(\"Classification report - \\n\", classification_report(y_test,y_pred))"
      ],
      "metadata": {
        "colab": {
          "base_uri": "https://localhost:8080/"
        },
        "id": "M_YzsUcZs5y3",
        "outputId": "30b8aa59-51cd-49c8-8643-04ac98be75e3"
      },
      "execution_count": 402,
      "outputs": [
        {
          "output_type": "stream",
          "name": "stdout",
          "text": [
            "Classification report - \n",
            "               precision    recall  f1-score   support\n",
            "\n",
            "           0       0.98      0.96      0.97        53\n",
            "           1       0.86      0.92      0.89        13\n",
            "\n",
            "    accuracy                           0.95        66\n",
            "   macro avg       0.92      0.94      0.93        66\n",
            "weighted avg       0.96      0.95      0.96        66\n",
            "\n"
          ]
        }
      ]
    },
    {
      "cell_type": "code",
      "source": [
        "sm.accuracy_score(y_test, y_pred_dtree)*100"
      ],
      "metadata": {
        "colab": {
          "base_uri": "https://localhost:8080/"
        },
        "id": "dBf4In8rFAFW",
        "outputId": "d88f416d-069a-4a14-a239-d7041f63bce4"
      },
      "execution_count": 404,
      "outputs": [
        {
          "output_type": "execute_result",
          "data": {
            "text/plain": [
              "92.42424242424242"
            ]
          },
          "metadata": {},
          "execution_count": 404
        }
      ]
    },
    {
      "cell_type": "code",
      "source": [
        "pred = pd.DataFrame(y_pred_dtree)\n",
        "cf_matrix = sm.confusion_matrix(y_test,pred)\n",
        "sns.heatmap(cf_matrix, annot = True, fmt='g')"
      ],
      "metadata": {
        "colab": {
          "base_uri": "https://localhost:8080/",
          "height": 282
        },
        "id": "RetCCExag6kA",
        "outputId": "b8628e35-a234-466b-f83a-3cafea6c3f8c"
      },
      "execution_count": 405,
      "outputs": [
        {
          "output_type": "execute_result",
          "data": {
            "text/plain": [
              "<matplotlib.axes._subplots.AxesSubplot at 0x7f5b67c41ad0>"
            ]
          },
          "metadata": {},
          "execution_count": 405
        },
        {
          "output_type": "display_data",
          "data": {
            "text/plain": [
              "<Figure size 432x288 with 2 Axes>"
            ],
            "image/png": "[encoded data removed]"
          },
          "metadata": {
            "needs_background": "light"
          }
        }
      ]
    },
    {
      "cell_type": "code",
      "source": [
        "dtree_acc = sm.accuracy_score(y_test, y_pred_dtree)*100"
      ],
      "metadata": {
        "id": "BEfQDPFeFTP-"
      },
      "execution_count": 406,
      "outputs": []
    },
    {
      "cell_type": "code",
      "source": [
        "# dot_data = tree.export_graphviz(p,feature_names = X_train.columns,class_names=['0','1'], filled=True, precision=4)\n",
        "# graph = graphviz.Source(dot_data, format=\"png\") \n",
        "# graph"
      ],
      "metadata": {
        "id": "4-YUCTerxi2j"
      },
      "execution_count": null,
      "outputs": []
    },
    {
      "cell_type": "code",
      "source": [
        ""
      ],
      "metadata": {
        "id": "nLJQkM7b9YQ_"
      },
      "execution_count": null,
      "outputs": []
    },
    {
      "cell_type": "markdown",
      "source": [
        "#RANDOM FOREST"
      ],
      "metadata": {
        "id": "RstbQGrtvkz8"
      }
    },
    {
      "cell_type": "code",
      "source": [
        "\n",
        "clf = RandomForestClassifier(n_estimators = 100, min_samples_leaf = 1, min_samples_split = 2) \n",
        "clf.fit(X_train, y_train)\n",
        " \n",
        "# performing predictions on the test dataset\n",
        "y_pred_rf = clf.predict(X_test)\n",
        " \n",
        "# metrics are used to find accuracy or error\n",
        "print()\n",
        " \n",
        "# using metrics module for accuracy calculation\n",
        "print(\"ACCURACY OF THE MODEL: \", sm.accuracy_score(y_test, y_pred_rf))"
      ],
      "metadata": {
        "colab": {
          "base_uri": "https://localhost:8080/"
        },
        "id": "N04PoKEnuJb-",
        "outputId": "62a2a63d-867b-451b-811c-71510524fab4"
      },
      "execution_count": 407,
      "outputs": [
        {
          "output_type": "stream",
          "name": "stdout",
          "text": [
            "\n",
            "ACCURACY OF THE MODEL:  0.9393939393939394\n"
          ]
        }
      ]
    },
    {
      "cell_type": "code",
      "source": [
        "random_for_acc = sm.accuracy_score(y_test, y_pred_rf)*100"
      ],
      "metadata": {
        "id": "NVNRGkGwEzxO"
      },
      "execution_count": 417,
      "outputs": []
    },
    {
      "cell_type": "code",
      "source": [
        "print(\"Classification report - \\n\", classification_report(y_test,y_pred_rf))"
      ],
      "metadata": {
        "colab": {
          "base_uri": "https://localhost:8080/"
        },
        "id": "uwSW7BFlvCgE",
        "outputId": "f1a79f54-966e-4ab5-dfe7-05df80ff4195"
      },
      "execution_count": 409,
      "outputs": [
        {
          "output_type": "stream",
          "name": "stdout",
          "text": [
            "Classification report - \n",
            "               precision    recall  f1-score   support\n",
            "\n",
            "           0       0.98      0.94      0.96        53\n",
            "           1       0.80      0.92      0.86        13\n",
            "\n",
            "    accuracy                           0.94        66\n",
            "   macro avg       0.89      0.93      0.91        66\n",
            "weighted avg       0.94      0.94      0.94        66\n",
            "\n"
          ]
        }
      ]
    },
    {
      "cell_type": "code",
      "source": [
        "p = pd.DataFrame(y_pred_rf)\n",
        "cf_matrix = sm.confusion_matrix(actual,p)\n",
        "sns.heatmap(cf_matrix, annot = True, fmt='g')\n",
        "\n"
      ],
      "metadata": {
        "colab": {
          "base_uri": "https://localhost:8080/",
          "height": 286
        },
        "id": "BXqlLAAKfC4U",
        "outputId": "fedc2195-7483-40bf-adfc-e48f2f73384a"
      },
      "execution_count": 410,
      "outputs": [
        {
          "output_type": "execute_result",
          "data": {
            "text/plain": [
              "<matplotlib.axes._subplots.AxesSubplot at 0x7f5b67b8ad50>"
            ]
          },
          "metadata": {},
          "execution_count": 410
        },
        {
          "output_type": "display_data",
          "data": {
            "text/plain": [
              "<Figure size 432x288 with 2 Axes>"
            ],
            "image/png": "[encoded data removed]"
          },
          "metadata": {
            "needs_background": "light"
          }
        }
      ]
    },
    {
      "cell_type": "code",
      "source": [
        ""
      ],
      "metadata": {
        "id": "Cs9YL05dAtK5"
      },
      "execution_count": null,
      "outputs": []
    },
    {
      "cell_type": "code",
      "source": [
        ""
      ],
      "metadata": {
        "id": "ZteghCcSAtGr"
      },
      "execution_count": null,
      "outputs": []
    },
    {
      "cell_type": "code",
      "source": [
        ""
      ],
      "metadata": {
        "id": "WCbwZLctAtBZ"
      },
      "execution_count": null,
      "outputs": []
    },
    {
      "cell_type": "code",
      "source": [
        ""
      ],
      "metadata": {
        "id": "p8ju8fP0As8x"
      },
      "execution_count": null,
      "outputs": []
    },
    {
      "cell_type": "markdown",
      "source": [
        "#SVM"
      ],
      "metadata": {
        "id": "FeTTzpRKHS_G"
      }
    },
    {
      "cell_type": "code",
      "source": [
        "#SVM\n",
        "from sklearn.svm import SVC\n",
        "\n",
        "clf = SVC(kernel='rbf', C = 10, gamma = 0.1) \n",
        "clf.fit(X_train, y_train)\n",
        " \n",
        "# performing predictions on the test dataset\n",
        "y_pred_svm = clf.predict(X_test)\n",
        " \n",
        "# metrics are used to find accuracy or error\n",
        "print()\n",
        " \n",
        "# using metrics module for accuracy calculation\n",
        "print(\"ACCURACY OF THE MODEL: \", sm.accuracy_score(y_test, y_pred_svm))"
      ],
      "metadata": {
        "id": "vdtL2vtezpUz",
        "colab": {
          "base_uri": "https://localhost:8080/"
        },
        "outputId": "f047b88e-2007-451d-c289-997cbfbade86"
      },
      "execution_count": 411,
      "outputs": [
        {
          "output_type": "stream",
          "name": "stdout",
          "text": [
            "\n",
            "ACCURACY OF THE MODEL:  0.9848484848484849\n"
          ]
        }
      ]
    },
    {
      "cell_type": "code",
      "source": [
        "svm_acc = sm.accuracy_score(y_test, y_pred_svm)*100"
      ],
      "metadata": {
        "id": "k_zSOAG0HWtd"
      },
      "execution_count": 416,
      "outputs": []
    },
    {
      "cell_type": "code",
      "source": [
        "print(\"Classification report - \\n\", classification_report(y_test,y_pred_svm))"
      ],
      "metadata": {
        "colab": {
          "base_uri": "https://localhost:8080/"
        },
        "id": "lVCGohXetA37",
        "outputId": "1fa2c027-0e9f-4a52-d28c-58bbd65d526a"
      },
      "execution_count": 413,
      "outputs": [
        {
          "output_type": "stream",
          "name": "stdout",
          "text": [
            "Classification report - \n",
            "               precision    recall  f1-score   support\n",
            "\n",
            "           0       1.00      0.98      0.99        53\n",
            "           1       0.93      1.00      0.96        13\n",
            "\n",
            "    accuracy                           0.98        66\n",
            "   macro avg       0.96      0.99      0.98        66\n",
            "weighted avg       0.99      0.98      0.99        66\n",
            "\n"
          ]
        }
      ]
    },
    {
      "cell_type": "code",
      "source": [
        "p = pd.DataFrame(y_pred_svm)\n",
        "cf_matrix = sm.confusion_matrix(actual,p)\n",
        "sns.heatmap(cf_matrix, annot = True, fmt='g')"
      ],
      "metadata": {
        "colab": {
          "base_uri": "https://localhost:8080/",
          "height": 282
        },
        "id": "J9D4XOHotEF6",
        "outputId": "61f410b5-c702-4e5a-95ae-7a657bf50f4b"
      },
      "execution_count": 414,
      "outputs": [
        {
          "output_type": "execute_result",
          "data": {
            "text/plain": [
              "<matplotlib.axes._subplots.AxesSubplot at 0x7f5b67b02390>"
            ]
          },
          "metadata": {},
          "execution_count": 414
        },
        {
          "output_type": "display_data",
          "data": {
            "text/plain": [
              "<Figure size 432x288 with 2 Axes>"
            ],
            "image/png": "[encoded data removed]"
          },
          "metadata": {
            "needs_background": "light"
          }
        }
      ]
    },
    {
      "cell_type": "markdown",
      "source": [
        "#SVM HPT"
      ],
      "metadata": {
        "id": "l6UYnz5oGQxP"
      }
    },
    {
      "cell_type": "code",
      "source": [
        "param_grid={'C':[0.1,1,10,100],\n",
        "            'gamma':[1,0.1,0.01,0.001,0.0001],\n",
        "            'kernel':['rbf']}\n",
        "\n",
        "grid=GridSearchCV(SVC(),param_grid,verbose=5)\n",
        "grid.fit(X_train,y_train)"
      ],
      "metadata": {
        "id": "_n6eboVwuZdS"
      },
      "execution_count": null,
      "outputs": []
    },
    {
      "cell_type": "code",
      "source": [
        "print(grid.best_params_)\n",
        "print(grid.best_score_)\n",
        "print(grid.best_estimator_)"
      ],
      "metadata": {
        "colab": {
          "base_uri": "https://localhost:8080/"
        },
        "id": "_DSVeYGPvVQM",
        "outputId": "deaf7d72-e8e6-4b58-ffde-04395205b18a"
      },
      "execution_count": 265,
      "outputs": [
        {
          "output_type": "stream",
          "name": "stdout",
          "text": [
            "{'C': 10, 'gamma': 0.1, 'kernel': 'rbf'}\n",
            "0.9544444444444444\n",
            "SVC(C=10, gamma=0.1)\n"
          ]
        }
      ]
    },
    {
      "cell_type": "code",
      "source": [
        ""
      ],
      "metadata": {
        "id": "nwraCeikvbUq"
      },
      "execution_count": null,
      "outputs": []
    },
    {
      "cell_type": "code",
      "source": [
        "clf = SVC(kernel='rbf',C=10, gamma=0.1) \n",
        "  \n",
        "# fitting x samples and y classes \n",
        "clf.fit(X_train, y_train) "
      ],
      "metadata": {
        "colab": {
          "base_uri": "https://localhost:8080/"
        },
        "id": "7HALLG9plupd",
        "outputId": "e34c7549-7d1d-4f82-e45c-00a456041067"
      },
      "execution_count": 266,
      "outputs": [
        {
          "output_type": "execute_result",
          "data": {
            "text/plain": [
              "SVC(C=10, gamma=0.1)"
            ]
          },
          "metadata": {},
          "execution_count": 266
        }
      ]
    },
    {
      "cell_type": "code",
      "source": [
        "pred = clf.predict(X_test)"
      ],
      "metadata": {
        "id": "P6IX9stwmQ2A"
      },
      "execution_count": 267,
      "outputs": []
    },
    {
      "cell_type": "code",
      "source": [
        "\n",
        "accuracy_score(y_test, pred)"
      ],
      "metadata": {
        "colab": {
          "base_uri": "https://localhost:8080/"
        },
        "id": "JzCckm4SmWbA",
        "outputId": "7a8f19ba-a43a-4222-d6e4-081475c00a82"
      },
      "execution_count": 268,
      "outputs": [
        {
          "output_type": "execute_result",
          "data": {
            "text/plain": [
              "0.9318181818181818"
            ]
          },
          "metadata": {},
          "execution_count": 268
        }
      ]
    },
    {
      "cell_type": "code",
      "source": [
        "print(\"Classification report - \\n\", classification_report(y_test,pred))"
      ],
      "metadata": {
        "colab": {
          "base_uri": "https://localhost:8080/"
        },
        "outputId": "285c9459-5287-451c-b605-82a5890b42a1",
        "id": "SGkWCiSFmWbM"
      },
      "execution_count": 269,
      "outputs": [
        {
          "output_type": "stream",
          "name": "stdout",
          "text": [
            "Classification report - \n",
            "               precision    recall  f1-score   support\n",
            "\n",
            "           0       0.94      0.97      0.96        33\n",
            "           1       0.90      0.82      0.86        11\n",
            "\n",
            "    accuracy                           0.93        44\n",
            "   macro avg       0.92      0.89      0.91        44\n",
            "weighted avg       0.93      0.93      0.93        44\n",
            "\n"
          ]
        }
      ]
    },
    {
      "cell_type": "code",
      "source": [
        "\n",
        "p = pd.DataFrame(pred)\n",
        "actual\n",
        "cf_matrix = sm.confusion_matrix(actual,p)\n",
        "sns.heatmap(cf_matrix, annot = True, fmt='g')"
      ],
      "metadata": {
        "colab": {
          "base_uri": "https://localhost:8080/",
          "height": 282
        },
        "outputId": "82dbf5b1-3401-4d9c-d91b-f41dd8049aad",
        "id": "nS2rFn6hmWbP"
      },
      "execution_count": 270,
      "outputs": [
        {
          "output_type": "execute_result",
          "data": {
            "text/plain": [
              "<matplotlib.axes._subplots.AxesSubplot at 0x7f5b6c75ab90>"
            ]
          },
          "metadata": {},
          "execution_count": 270
        },
        {
          "output_type": "display_data",
          "data": {
            "text/plain": [
              "<Figure size 432x288 with 2 Axes>"
            ],
            "image/png": "[encoded data removed]"
          },
          "metadata": {
            "needs_background": "light"
          }
        }
      ]
    },
    {
      "cell_type": "markdown",
      "source": [
        "SVM HPT End"
      ],
      "metadata": {
        "id": "_NT-svxPIT1F"
      }
    },
    {
      "cell_type": "markdown",
      "source": [
        "#Plotting Accuracy of Decision Tree, Random Forest and SVM."
      ],
      "metadata": {
        "id": "mjUbNbvgIJmO"
      }
    },
    {
      "cell_type": "code",
      "source": [
        ""
      ],
      "metadata": {
        "id": "Jb6ouPF1H6p0"
      },
      "execution_count": null,
      "outputs": []
    },
    {
      "cell_type": "code",
      "source": [
        "modelacc1 = pd.DataFrame({\"Decision Tree Accuracy \": [dtree_acc],\n",
        "                               \"Random Forest Accuracy\": [random_for_acc],\n",
        "                          \"SVM Accuracy\": [svm_acc]})\n",
        "modelacc1.plot.barh(align='edge',figsize=(15,8),ec=\"black\");\n",
        "plt.xlabel('Models', fontsize=20)\n",
        "plt.ylabel('Scores',fontsize=20)\n",
        "plt.legend(fontsize=10.5);"
      ],
      "metadata": {
        "colab": {
          "base_uri": "https://localhost:8080/",
          "height": 506
        },
        "id": "micipWm5H6d1",
        "outputId": "2501dcfe-f14b-4c38-ece8-e8a5df6e32d6"
      },
      "execution_count": 418,
      "outputs": [
        {
          "output_type": "display_data",
          "data": {
            "text/plain": [
              "<Figure size 1080x576 with 1 Axes>"
            ],
            "image/png": "[encoded data removed]"
          },
          "metadata": {
            "needs_background": "light"
          }
        }
      ]
    }
  ]
}